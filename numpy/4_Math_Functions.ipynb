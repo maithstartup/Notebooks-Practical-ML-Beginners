{
  "nbformat": 4,
  "nbformat_minor": 0,
  "metadata": {
    "kernelspec": {
      "display_name": "Python 3",
      "language": "python",
      "name": "python3"
    },
    "language_info": {
      "codemirror_mode": {
        "name": "ipython",
        "version": 3
      },
      "file_extension": ".py",
      "mimetype": "text/x-python",
      "name": "python",
      "nbconvert_exporter": "python",
      "pygments_lexer": "ipython3",
      "version": "3.7.4"
    },
    "colab": {
      "name": "4. Math Functions.ipynb",
      "provenance": [],
      "include_colab_link": true
    }
  },
  "cells": [
    {
      "cell_type": "markdown",
      "metadata": {
        "id": "view-in-github",
        "colab_type": "text"
      },
      "source": [
        "<a href=\"https://colab.research.google.com/github/maithstartup/Notebooks-Practical-ML-Beginners/blob/master/numpy/4_Math_Functions.ipynb\" target=\"_parent\"><img src=\"https://colab.research.google.com/assets/colab-badge.svg\" alt=\"Open In Colab\"/></a>"
      ]
    },
    {
      "cell_type": "markdown",
      "metadata": {
        "id": "AYutLp161ARD",
        "colab_type": "text"
      },
      "source": [
        "### Math Functions "
      ]
    },
    {
      "cell_type": "code",
      "metadata": {
        "id": "1BfT2MgKz1wY",
        "colab_type": "code",
        "colab": {}
      },
      "source": [
        "import numpy as np"
      ],
      "execution_count": 1,
      "outputs": []
    },
    {
      "cell_type": "code",
      "metadata": {
        "id": "nMVTlT6Fz1we",
        "colab_type": "code",
        "colab": {}
      },
      "source": [
        "np.random.seed(26)\n",
        "arr = np.random.choice(range(1,5), 10, replace=True)\n",
        "arr=arr.reshape(2,5)"
      ],
      "execution_count": 2,
      "outputs": []
    },
    {
      "cell_type": "code",
      "metadata": {
        "id": "mQ-kW5rYz1wi",
        "colab_type": "code",
        "colab": {
          "base_uri": "https://localhost:8080/",
          "height": 50
        },
        "outputId": "a628aa8e-5497-4c23-af66-a2bc41de8669"
      },
      "source": [
        "arr"
      ],
      "execution_count": 3,
      "outputs": [
        {
          "output_type": "execute_result",
          "data": {
            "text/plain": [
              "array([[2, 3, 3, 1, 2],\n",
              "       [3, 4, 2, 3, 1]])"
            ]
          },
          "metadata": {
            "tags": []
          },
          "execution_count": 3
        }
      ]
    },
    {
      "cell_type": "markdown",
      "metadata": {
        "id": "URgofHxHz1wn",
        "colab_type": "text"
      },
      "source": [
        "### element-wise addition, subtraction, multiplication and division"
      ]
    },
    {
      "cell_type": "code",
      "metadata": {
        "id": "huEyDYIkz1wo",
        "colab_type": "code",
        "colab": {
          "base_uri": "https://localhost:8080/",
          "height": 151
        },
        "outputId": "70c12568-7925-4b6f-ad74-d5b0e95b9831"
      },
      "source": [
        "print(arr + 10)\n",
        "print(arr - 10)\n",
        "print(arr * 10)\n",
        "print(arr / 10)"
      ],
      "execution_count": 4,
      "outputs": [
        {
          "output_type": "stream",
          "text": [
            "[[12 13 13 11 12]\n",
            " [13 14 12 13 11]]\n",
            "[[-8 -7 -7 -9 -8]\n",
            " [-7 -6 -8 -7 -9]]\n",
            "[[20 30 30 10 20]\n",
            " [30 40 20 30 10]]\n",
            "[[0.2 0.3 0.3 0.1 0.2]\n",
            " [0.3 0.4 0.2 0.3 0.1]]\n"
          ],
          "name": "stdout"
        }
      ]
    },
    {
      "cell_type": "code",
      "metadata": {
        "id": "KBSCLCaYz1ws",
        "colab_type": "code",
        "colab": {
          "base_uri": "https://localhost:8080/",
          "height": 67
        },
        "outputId": "6c381980-19d3-4548-bb8a-e53a6f8f0b83"
      },
      "source": [
        "# the above operations can be performed using numpy built-in functions\n",
        "# which can save memory as the output can be stored in the original array rather than assigning new memory\n",
        "arr1 = np.array([1,2,3])\n",
        "np.add(arr1, [8,9,10], out=arr1)\n",
        "print(arr1)\n",
        "\n",
        "np.subtract(arr1, [8,9,10], out=arr1)\n",
        "print(arr1)\n",
        "\n",
        "np.multiply(arr1, [1,2,3], out=arr1)\n",
        "print(arr1)"
      ],
      "execution_count": 5,
      "outputs": [
        {
          "output_type": "stream",
          "text": [
            "[ 9 11 13]\n",
            "[1 2 3]\n",
            "[1 4 9]\n"
          ],
          "name": "stdout"
        }
      ]
    },
    {
      "cell_type": "markdown",
      "metadata": {
        "id": "Kus8u5LPz1ww",
        "colab_type": "text"
      },
      "source": [
        "### element-wise exponentiation"
      ]
    },
    {
      "cell_type": "code",
      "metadata": {
        "id": "plSIP0xvz1wx",
        "colab_type": "code",
        "colab": {
          "base_uri": "https://localhost:8080/",
          "height": 50
        },
        "outputId": "2d6ad05a-f8b8-4f10-8543-a7a9a20e896e"
      },
      "source": [
        "print(np.exp(arr))"
      ],
      "execution_count": 6,
      "outputs": [
        {
          "output_type": "stream",
          "text": [
            "[[ 7.3890561  20.08553692 20.08553692  2.71828183  7.3890561 ]\n",
            " [20.08553692 54.59815003  7.3890561  20.08553692  2.71828183]]\n"
          ],
          "name": "stdout"
        }
      ]
    },
    {
      "cell_type": "markdown",
      "metadata": {
        "id": "c20VMPIUz1w0",
        "colab_type": "text"
      },
      "source": [
        "### element-wise logorithm"
      ]
    },
    {
      "cell_type": "code",
      "metadata": {
        "id": "B58YFxJDz1w1",
        "colab_type": "code",
        "colab": {
          "base_uri": "https://localhost:8080/",
          "height": 50
        },
        "outputId": "8701765f-aa09-4a55-ed9c-e2bc2f26a2c9"
      },
      "source": [
        "# natural log\n",
        "print(np.log(arr))      "
      ],
      "execution_count": 7,
      "outputs": [
        {
          "output_type": "stream",
          "text": [
            "[[0.69314718 1.09861229 1.09861229 0.         0.69314718]\n",
            " [1.09861229 1.38629436 0.69314718 1.09861229 0.        ]]\n"
          ],
          "name": "stdout"
        }
      ]
    },
    {
      "cell_type": "code",
      "metadata": {
        "id": "n1v9M-tGz1w5",
        "colab_type": "code",
        "colab": {
          "base_uri": "https://localhost:8080/",
          "height": 50
        },
        "outputId": "4f260e20-42b4-4813-ee8f-b3c2bf5b25d9"
      },
      "source": [
        "# base 2\n",
        "print(np.log2(arr))     "
      ],
      "execution_count": 8,
      "outputs": [
        {
          "output_type": "stream",
          "text": [
            "[[1.        1.5849625 1.5849625 0.        1.       ]\n",
            " [1.5849625 2.        1.        1.5849625 0.       ]]\n"
          ],
          "name": "stdout"
        }
      ]
    },
    {
      "cell_type": "code",
      "metadata": {
        "id": "w4_Mjc_nz1w_",
        "colab_type": "code",
        "colab": {
          "base_uri": "https://localhost:8080/",
          "height": 50
        },
        "outputId": "120aad39-f62a-4ff3-be7b-9ad002ecabda"
      },
      "source": [
        "# base 10\n",
        "print(np.log10(arr))    "
      ],
      "execution_count": 9,
      "outputs": [
        {
          "output_type": "stream",
          "text": [
            "[[0.30103    0.47712125 0.47712125 0.         0.30103   ]\n",
            " [0.47712125 0.60205999 0.30103    0.47712125 0.        ]]\n"
          ],
          "name": "stdout"
        }
      ]
    },
    {
      "cell_type": "markdown",
      "metadata": {
        "id": "PJlipb8Uz1xC",
        "colab_type": "text"
      },
      "source": [
        "### element-wise square root"
      ]
    },
    {
      "cell_type": "code",
      "metadata": {
        "id": "zeiYhYt2z1xD",
        "colab_type": "code",
        "colab": {
          "base_uri": "https://localhost:8080/",
          "height": 50
        },
        "outputId": "8a2cb308-1c72-4144-a10b-e2e13a345eb6"
      },
      "source": [
        "print(np.sqrt(arr))"
      ],
      "execution_count": 10,
      "outputs": [
        {
          "output_type": "stream",
          "text": [
            "[[1.41421356 1.73205081 1.73205081 1.         1.41421356]\n",
            " [1.73205081 2.         1.41421356 1.73205081 1.        ]]\n"
          ],
          "name": "stdout"
        }
      ]
    },
    {
      "cell_type": "markdown",
      "metadata": {
        "id": "n0kVVtzEz1xG",
        "colab_type": "text"
      },
      "source": [
        "### element-wise sine and cosine"
      ]
    },
    {
      "cell_type": "code",
      "metadata": {
        "id": "6LqMR4HYz1xH",
        "colab_type": "code",
        "colab": {
          "base_uri": "https://localhost:8080/",
          "height": 0
        },
        "outputId": "3a3eb2f7-fc0c-4bc2-f2bb-b5987738f0f9"
      },
      "source": [
        "print(np.sin(arr))\n"
      ],
      "execution_count": 11,
      "outputs": [
        {
          "output_type": "stream",
          "text": [
            "[[ 0.90929743  0.14112001  0.14112001  0.84147098  0.90929743]\n",
            " [ 0.14112001 -0.7568025   0.90929743  0.14112001  0.84147098]]\n"
          ],
          "name": "stdout"
        }
      ]
    },
    {
      "cell_type": "code",
      "metadata": {
        "id": "PQNZLDcPz1xL",
        "colab_type": "code",
        "colab": {
          "base_uri": "https://localhost:8080/",
          "height": 0
        },
        "outputId": "3cddf614-489d-44ff-cbf8-6ca05091ba21"
      },
      "source": [
        "print(np.cos(arr))"
      ],
      "execution_count": 12,
      "outputs": [
        {
          "output_type": "stream",
          "text": [
            "[[-0.41614684 -0.9899925  -0.9899925   0.54030231 -0.41614684]\n",
            " [-0.9899925  -0.65364362 -0.41614684 -0.9899925   0.54030231]]\n"
          ],
          "name": "stdout"
        }
      ]
    },
    {
      "cell_type": "markdown",
      "metadata": {
        "id": "ta9u6ksdz1xO",
        "colab_type": "text"
      },
      "source": [
        "### sum along a specified axis"
      ]
    },
    {
      "cell_type": "markdown",
      "metadata": {
        "id": "3VnWqtXY07tI",
        "colab_type": "text"
      },
      "source": [
        ""
      ]
    },
    {
      "cell_type": "code",
      "metadata": {
        "id": "8GAenDYu6RN5",
        "colab_type": "code",
        "colab": {
          "base_uri": "https://localhost:8080/",
          "height": 0
        },
        "outputId": "23fdf132-8180-46b0-cd14-59069532904c"
      },
      "source": [
        "arr"
      ],
      "execution_count": 13,
      "outputs": [
        {
          "output_type": "execute_result",
          "data": {
            "text/plain": [
              "array([[2, 3, 3, 1, 2],\n",
              "       [3, 4, 2, 3, 1]])"
            ]
          },
          "metadata": {
            "tags": []
          },
          "execution_count": 13
        }
      ]
    },
    {
      "cell_type": "code",
      "metadata": {
        "id": "aaKtDGT6z1xO",
        "colab_type": "code",
        "colab": {
          "base_uri": "https://localhost:8080/",
          "height": 0
        },
        "outputId": "afc31535-0afc-42ec-eb11-02948cd1be60"
      },
      "source": [
        "# sum along the row\n",
        "print(np.sum(arr, axis=0))    "
      ],
      "execution_count": 14,
      "outputs": [
        {
          "output_type": "stream",
          "text": [
            "[5 7 5 4 3]\n"
          ],
          "name": "stdout"
        }
      ]
    },
    {
      "cell_type": "code",
      "metadata": {
        "id": "nG2H1UCmz1xR",
        "colab_type": "code",
        "colab": {
          "base_uri": "https://localhost:8080/",
          "height": 0
        },
        "outputId": "12a1fe2b-b864-44f2-ad2d-17560961b8ce"
      },
      "source": [
        "# sum along the column\n",
        "print(np.sum(arr, axis=1))    "
      ],
      "execution_count": 15,
      "outputs": [
        {
          "output_type": "stream",
          "text": [
            "[11 13]\n"
          ],
          "name": "stdout"
        }
      ]
    },
    {
      "cell_type": "markdown",
      "metadata": {
        "id": "BzbXYN9rz1xV",
        "colab_type": "text"
      },
      "source": [
        "### compute the min and max along a specified axis"
      ]
    },
    {
      "cell_type": "code",
      "metadata": {
        "id": "Kuos_2Qsz1xW",
        "colab_type": "code",
        "colab": {
          "base_uri": "https://localhost:8080/",
          "height": 0
        },
        "outputId": "0e9156d3-be43-4a8d-b33b-949ab3457e3b"
      },
      "source": [
        "# calculate min along the row\n",
        "print(np.min(arr, axis=0))"
      ],
      "execution_count": 16,
      "outputs": [
        {
          "output_type": "stream",
          "text": [
            "[2 3 2 1 1]\n"
          ],
          "name": "stdout"
        }
      ]
    },
    {
      "cell_type": "code",
      "metadata": {
        "id": "QW2ZULGPz1xZ",
        "colab_type": "code",
        "colab": {
          "base_uri": "https://localhost:8080/",
          "height": 0
        },
        "outputId": "8156f91b-cabc-4449-d6d5-01d6e394e835"
      },
      "source": [
        "# calculate max along the column\n",
        "print(np.max(arr, axis=1))    "
      ],
      "execution_count": 17,
      "outputs": [
        {
          "output_type": "stream",
          "text": [
            "[3 4]\n"
          ],
          "name": "stdout"
        }
      ]
    },
    {
      "cell_type": "code",
      "metadata": {
        "id": "nHpAWJe2z1xc",
        "colab_type": "code",
        "colab": {
          "base_uri": "https://localhost:8080/",
          "height": 0
        },
        "outputId": "6e90eeee-dcc4-4618-eea8-080efef2ddc3"
      },
      "source": [
        "# if axis not specified, calculate the max/min value of all elements\n",
        "print(np.max(arr))\n",
        "print(np.min(arr))"
      ],
      "execution_count": 18,
      "outputs": [
        {
          "output_type": "stream",
          "text": [
            "4\n",
            "1\n"
          ],
          "name": "stdout"
        }
      ]
    },
    {
      "cell_type": "markdown",
      "metadata": {
        "id": "ns8HKWLgz1xf",
        "colab_type": "text"
      },
      "source": [
        "### compute the indices of the min and max along a specified axis"
      ]
    },
    {
      "cell_type": "code",
      "metadata": {
        "id": "qZzVTuTw6zrO",
        "colab_type": "code",
        "colab": {
          "base_uri": "https://localhost:8080/",
          "height": 0
        },
        "outputId": "7d032cc9-0e47-4edd-b54a-2ccff1a86939"
      },
      "source": [
        "arr"
      ],
      "execution_count": 19,
      "outputs": [
        {
          "output_type": "execute_result",
          "data": {
            "text/plain": [
              "array([[2, 3, 3, 1, 2],\n",
              "       [3, 4, 2, 3, 1]])"
            ]
          },
          "metadata": {
            "tags": []
          },
          "execution_count": 19
        }
      ]
    },
    {
      "cell_type": "code",
      "metadata": {
        "id": "-SF-wdW3z1xg",
        "colab_type": "code",
        "colab": {
          "base_uri": "https://localhost:8080/",
          "height": 0
        },
        "outputId": "ddee0775-7886-4807-d95b-1d36193c94b3"
      },
      "source": [
        "# along the row\n",
        "print(np.argmin(arr, axis=0))\n",
        "print(np.argmax(arr, axis=0))"
      ],
      "execution_count": 20,
      "outputs": [
        {
          "output_type": "stream",
          "text": [
            "[0 0 1 0 1]\n",
            "[1 1 0 1 0]\n"
          ],
          "name": "stdout"
        }
      ]
    },
    {
      "cell_type": "code",
      "metadata": {
        "id": "bP5J1a8oz1xj",
        "colab_type": "code",
        "colab": {
          "base_uri": "https://localhost:8080/",
          "height": 0
        },
        "outputId": "dad78746-6928-4fd1-b582-79eb29244c35"
      },
      "source": [
        "# along the column\n",
        "print(np.argmin(arr, axis=1))\n",
        "print(np.argmax(arr, axis=1))"
      ],
      "execution_count": 21,
      "outputs": [
        {
          "output_type": "stream",
          "text": [
            "[3 4]\n",
            "[1 1]\n"
          ],
          "name": "stdout"
        }
      ]
    },
    {
      "cell_type": "code",
      "metadata": {
        "id": "v5VoOidnz1xm",
        "colab_type": "code",
        "colab": {
          "base_uri": "https://localhost:8080/",
          "height": 0
        },
        "outputId": "892e8b5a-4429-4bf8-da37-097aa99a9139"
      },
      "source": [
        "# if axis not specified, return the index of the flattened array\n",
        "print(np.argmin(arr))\n",
        "print(np.argmax(arr))"
      ],
      "execution_count": 22,
      "outputs": [
        {
          "output_type": "stream",
          "text": [
            "3\n",
            "6\n"
          ],
          "name": "stdout"
        }
      ]
    },
    {
      "cell_type": "markdown",
      "metadata": {
        "id": "jxG7h0X0z1xp",
        "colab_type": "text"
      },
      "source": [
        "### compute element-wise min and max of two arrays"
      ]
    },
    {
      "cell_type": "code",
      "metadata": {
        "id": "L83nOJid1cp9",
        "colab_type": "code",
        "colab": {
          "base_uri": "https://localhost:8080/",
          "height": 0
        },
        "outputId": "f084d191-86c7-487a-c5b4-49012bc2dffd"
      },
      "source": [
        "arr.flatten()"
      ],
      "execution_count": 23,
      "outputs": [
        {
          "output_type": "execute_result",
          "data": {
            "text/plain": [
              "array([2, 3, 3, 1, 2, 3, 4, 2, 3, 1])"
            ]
          },
          "metadata": {
            "tags": []
          },
          "execution_count": 23
        }
      ]
    },
    {
      "cell_type": "code",
      "metadata": {
        "id": "dVKU6sAfz1xq",
        "colab_type": "code",
        "colab": {
          "base_uri": "https://localhost:8080/",
          "height": 0
        },
        "outputId": "cd1355b0-5f33-4dcf-bed6-07626552b1ed"
      },
      "source": [
        "arr1 = np.array([1, 3, 5, 7, 9])\n",
        "arr2 = np.array([0, 4, 3, 8, 7])\n",
        "print(np.maximum(arr1, arr2))\n",
        "print(np.minimum(arr1, arr2))"
      ],
      "execution_count": 24,
      "outputs": [
        {
          "output_type": "stream",
          "text": [
            "[1 4 5 8 9]\n",
            "[0 3 3 7 7]\n"
          ],
          "name": "stdout"
        }
      ]
    },
    {
      "cell_type": "markdown",
      "metadata": {
        "id": "rowFd5wcz1xt",
        "colab_type": "text"
      },
      "source": [
        "### split fractional and integral parts of a floating-point array"
      ]
    },
    {
      "cell_type": "code",
      "metadata": {
        "id": "QCTvO9q8z1xt",
        "colab_type": "code",
        "colab": {
          "base_uri": "https://localhost:8080/",
          "height": 0
        },
        "outputId": "2f07fdd1-03c5-4335-ca24-6c55035cd097"
      },
      "source": [
        "arr1 = np.random.rand(10) * 10\n",
        "re, intg = np.modf(arr1)\n",
        "print(arr1)\n",
        "print('fractional: ', re)\n",
        "print('integral: ', intg)"
      ],
      "execution_count": 25,
      "outputs": [
        {
          "output_type": "stream",
          "text": [
            "[1.87921392 2.69505246 4.96192141 7.39121747 1.94951992 1.79745247\n",
            " 5.38826259 2.82765605 7.60939869 2.69692942]\n",
            "fractional:  [0.87921392 0.69505246 0.96192141 0.39121747 0.94951992 0.79745247\n",
            " 0.38826259 0.82765605 0.60939869 0.69692942]\n",
            "integral:  [1. 2. 4. 7. 1. 1. 5. 2. 7. 2.]\n"
          ],
          "name": "stdout"
        }
      ]
    },
    {
      "cell_type": "markdown",
      "metadata": {
        "id": "oqMJvr6-z1xx",
        "colab_type": "text"
      },
      "source": [
        "### compute the mean"
      ]
    },
    {
      "cell_type": "code",
      "metadata": {
        "id": "ag1zs5Zuz1xy",
        "colab_type": "code",
        "colab": {
          "base_uri": "https://localhost:8080/",
          "height": 0
        },
        "outputId": "d08ad28e-7944-45d0-9b2c-f7939d8aa483"
      },
      "source": [
        "arr"
      ],
      "execution_count": 26,
      "outputs": [
        {
          "output_type": "execute_result",
          "data": {
            "text/plain": [
              "array([[2, 3, 3, 1, 2],\n",
              "       [3, 4, 2, 3, 1]])"
            ]
          },
          "metadata": {
            "tags": []
          },
          "execution_count": 26
        }
      ]
    },
    {
      "cell_type": "code",
      "metadata": {
        "id": "P2uRKGBEz1x2",
        "colab_type": "code",
        "colab": {
          "base_uri": "https://localhost:8080/",
          "height": 0
        },
        "outputId": "d737074a-c651-4323-d554-419dd9d17a4e"
      },
      "source": [
        "# compute the overall mean\n",
        "print(np.mean(arr))"
      ],
      "execution_count": 27,
      "outputs": [
        {
          "output_type": "stream",
          "text": [
            "2.4\n"
          ],
          "name": "stdout"
        }
      ]
    },
    {
      "cell_type": "code",
      "metadata": {
        "id": "oialLp5Wz1x5",
        "colab_type": "code",
        "colab": {
          "base_uri": "https://localhost:8080/",
          "height": 0
        },
        "outputId": "44e8616c-fbce-458b-9613-58f7a5624189"
      },
      "source": [
        "# compute the mean along the row\n",
        "print(np.mean(arr, axis=0))   "
      ],
      "execution_count": 28,
      "outputs": [
        {
          "output_type": "stream",
          "text": [
            "[2.5 3.5 2.5 2.  1.5]\n"
          ],
          "name": "stdout"
        }
      ]
    },
    {
      "cell_type": "code",
      "metadata": {
        "id": "T_rINIP6z1x8",
        "colab_type": "code",
        "colab": {
          "base_uri": "https://localhost:8080/",
          "height": 0
        },
        "outputId": "609b7ac9-8e49-4bc9-ca29-84c1944240ae"
      },
      "source": [
        "# compute the mean along the column\n",
        "print(np.mean(arr, axis=1)) "
      ],
      "execution_count": 29,
      "outputs": [
        {
          "output_type": "stream",
          "text": [
            "[2.2 2.6]\n"
          ],
          "name": "stdout"
        }
      ]
    },
    {
      "cell_type": "markdown",
      "metadata": {
        "id": "Sbxm9lE0z1x_",
        "colab_type": "text"
      },
      "source": [
        "### compute the median"
      ]
    },
    {
      "cell_type": "code",
      "metadata": {
        "id": "IQPF5joSz1x_",
        "colab_type": "code",
        "colab": {
          "base_uri": "https://localhost:8080/",
          "height": 0
        },
        "outputId": "39f71f15-c333-4e4b-efcb-6313fbf94123"
      },
      "source": [
        "# compute the overall median\n",
        "print(np.median(arr))"
      ],
      "execution_count": 30,
      "outputs": [
        {
          "output_type": "stream",
          "text": [
            "2.5\n"
          ],
          "name": "stdout"
        }
      ]
    },
    {
      "cell_type": "code",
      "metadata": {
        "id": "lMVqQ43zz1yC",
        "colab_type": "code",
        "colab": {
          "base_uri": "https://localhost:8080/",
          "height": 0
        },
        "outputId": "b19f1f08-c711-4a11-8cc6-2a76f01c042b"
      },
      "source": [
        "# compute the median along the row\n",
        "print(np.median(arr, axis=0)) "
      ],
      "execution_count": 31,
      "outputs": [
        {
          "output_type": "stream",
          "text": [
            "[2.5 3.5 2.5 2.  1.5]\n"
          ],
          "name": "stdout"
        }
      ]
    },
    {
      "cell_type": "code",
      "metadata": {
        "id": "9B73fa8Oz1yI",
        "colab_type": "code",
        "colab": {
          "base_uri": "https://localhost:8080/",
          "height": 0
        },
        "outputId": "e03318c8-96e3-4bfe-8a96-c177c2354f88"
      },
      "source": [
        "# compute the median along the column\n",
        "print(np.median(arr, axis=1))"
      ],
      "execution_count": 32,
      "outputs": [
        {
          "output_type": "stream",
          "text": [
            "[2. 3.]\n"
          ],
          "name": "stdout"
        }
      ]
    },
    {
      "cell_type": "code",
      "metadata": {
        "id": "_UFQlmySz1yL",
        "colab_type": "code",
        "colab": {}
      },
      "source": [
        "np.info(arr)"
      ],
      "execution_count": 33,
      "outputs": []
    },
    {
      "cell_type": "markdown",
      "metadata": {
        "id": "M6k2etDMz1yO",
        "colab_type": "text"
      },
      "source": [
        "### compute the percentile"
      ]
    },
    {
      "cell_type": "code",
      "metadata": {
        "id": "CuVR2Tywz1yP",
        "colab_type": "code",
        "colab": {
          "base_uri": "https://localhost:8080/",
          "height": 0
        },
        "outputId": "dcdae302-44e8-4e44-9832-d763877ebf1d"
      },
      "source": [
        "arr1 = np.random.rand(100)\n",
        "# compute 5, 65, and 95 percentiles of the array\n",
        "print(np.percentile(arr1, [5, 50, 95]))\n",
        "np.median(arr1)"
      ],
      "execution_count": 34,
      "outputs": [
        {
          "output_type": "stream",
          "text": [
            "[0.0664878  0.5247998  0.97370776]\n"
          ],
          "name": "stdout"
        },
        {
          "output_type": "execute_result",
          "data": {
            "text/plain": [
              "0.5247998036431495"
            ]
          },
          "metadata": {
            "tags": []
          },
          "execution_count": 34
        }
      ]
    },
    {
      "cell_type": "markdown",
      "metadata": {
        "id": "0LqaP01-z1yR",
        "colab_type": "text"
      },
      "source": [
        "### compute the standard deviation & variance"
      ]
    },
    {
      "cell_type": "code",
      "metadata": {
        "id": "tAy8EnNxz1yS",
        "colab_type": "code",
        "colab": {
          "base_uri": "https://localhost:8080/",
          "height": 0
        },
        "outputId": "7b6754ae-0b1f-45f1-e279-bd87812a835f"
      },
      "source": [
        "# compute the overall standard deviation\n",
        "print(np.std(arr))"
      ],
      "execution_count": 35,
      "outputs": [
        {
          "output_type": "stream",
          "text": [
            "0.9165151389911681\n"
          ],
          "name": "stdout"
        }
      ]
    },
    {
      "cell_type": "code",
      "metadata": {
        "id": "p1TWSbosz1yV",
        "colab_type": "code",
        "colab": {
          "base_uri": "https://localhost:8080/",
          "height": 0
        },
        "outputId": "782a339e-4003-40b9-cd16-e7cdb92570ad"
      },
      "source": [
        "# compute the standard deviation along the row\n",
        "print(np.std(arr, axis=0))"
      ],
      "execution_count": 36,
      "outputs": [
        {
          "output_type": "stream",
          "text": [
            "[0.5 0.5 0.5 1.  0.5]\n"
          ],
          "name": "stdout"
        }
      ]
    },
    {
      "cell_type": "code",
      "metadata": {
        "id": "DY8SWufDz1yX",
        "colab_type": "code",
        "colab": {
          "base_uri": "https://localhost:8080/",
          "height": 0
        },
        "outputId": "ed3b63e2-3da1-41a6-b3be-f32aec7a7a99"
      },
      "source": [
        "# compute the standard deviation along the column\n",
        "print(np.std(arr, axis=1))"
      ],
      "execution_count": 37,
      "outputs": [
        {
          "output_type": "stream",
          "text": [
            "[0.74833148 1.0198039 ]\n"
          ],
          "name": "stdout"
        }
      ]
    },
    {
      "cell_type": "code",
      "metadata": {
        "id": "UkAGkkCkz1yb",
        "colab_type": "code",
        "colab": {
          "base_uri": "https://localhost:8080/",
          "height": 0
        },
        "outputId": "bfc1245b-7b6b-425a-996d-83245500b5bd"
      },
      "source": [
        "# compute the overall variance\n",
        "print(np.var(arr))"
      ],
      "execution_count": 38,
      "outputs": [
        {
          "output_type": "stream",
          "text": [
            "0.8400000000000001\n"
          ],
          "name": "stdout"
        }
      ]
    },
    {
      "cell_type": "code",
      "metadata": {
        "id": "PjluwBqwz1ye",
        "colab_type": "code",
        "colab": {
          "base_uri": "https://localhost:8080/",
          "height": 0
        },
        "outputId": "1fce476f-d506-45f0-c161-6a6d0fc0a9eb"
      },
      "source": [
        "# compute the variance along the row\n",
        "print(np.var(arr, axis=0))"
      ],
      "execution_count": 39,
      "outputs": [
        {
          "output_type": "stream",
          "text": [
            "[0.25 0.25 0.25 1.   0.25]\n"
          ],
          "name": "stdout"
        }
      ]
    },
    {
      "cell_type": "code",
      "metadata": {
        "id": "0_6bDFTez1yh",
        "colab_type": "code",
        "colab": {
          "base_uri": "https://localhost:8080/",
          "height": 0
        },
        "outputId": "88efe99e-aee4-46a9-8792-77560cd3a6f2"
      },
      "source": [
        "# compute the variance along the column\n",
        "print(np.var(arr, axis=1))"
      ],
      "execution_count": 40,
      "outputs": [
        {
          "output_type": "stream",
          "text": [
            "[0.56 1.04]\n"
          ],
          "name": "stdout"
        }
      ]
    },
    {
      "cell_type": "markdown",
      "metadata": {
        "id": "n0_BYDq0z1yk",
        "colab_type": "text"
      },
      "source": [
        "### compute the covariance & correlation"
      ]
    },
    {
      "cell_type": "code",
      "metadata": {
        "id": "gGmzWpGkz1yl",
        "colab_type": "code",
        "colab": {}
      },
      "source": [
        "arr = np.random.rand(5,8)"
      ],
      "execution_count": 41,
      "outputs": []
    },
    {
      "cell_type": "code",
      "metadata": {
        "id": "GXHqzMTcz1yo",
        "colab_type": "code",
        "colab": {
          "base_uri": "https://localhost:8080/",
          "height": 0
        },
        "outputId": "f1afab47-eb92-4fcc-ae43-fe4554ccb06b"
      },
      "source": [
        "print(np.cov(arr))"
      ],
      "execution_count": 42,
      "outputs": [
        {
          "output_type": "stream",
          "text": [
            "[[ 0.0267089   0.04774314  0.01642168 -0.0465569  -0.01952218]\n",
            " [ 0.04774314  0.1159078   0.0357572  -0.08099411 -0.02276277]\n",
            " [ 0.01642168  0.0357572   0.07252431 -0.05289587 -0.01209068]\n",
            " [-0.0465569  -0.08099411 -0.05289587  0.12586242 -0.00477081]\n",
            " [-0.01952218 -0.02276277 -0.01209068 -0.00477081  0.08589177]]\n"
          ],
          "name": "stdout"
        }
      ]
    },
    {
      "cell_type": "code",
      "metadata": {
        "id": "8Q3Gh2Qqz1ys",
        "colab_type": "code",
        "colab": {
          "base_uri": "https://localhost:8080/",
          "height": 0
        },
        "outputId": "53ae82a0-d954-4a96-b83d-29c59dfc8926"
      },
      "source": [
        "print(np.corrcoef(arr[:,0], arr[:,1]))"
      ],
      "execution_count": 43,
      "outputs": [
        {
          "output_type": "stream",
          "text": [
            "[[1.         0.59678819]\n",
            " [0.59678819 1.        ]]\n"
          ],
          "name": "stdout"
        }
      ]
    },
    {
      "cell_type": "markdown",
      "metadata": {
        "id": "24QTVWZMz1yw",
        "colab_type": "text"
      },
      "source": [
        "### compute cumulative sum & product"
      ]
    },
    {
      "cell_type": "code",
      "metadata": {
        "id": "aj5tASVL4wkR",
        "colab_type": "code",
        "colab": {}
      },
      "source": [
        "arr = np.random.choice(range(1,5), 10, replace=True).reshape(2,5)"
      ],
      "execution_count": 44,
      "outputs": []
    },
    {
      "cell_type": "code",
      "metadata": {
        "id": "YimzZtl28D0w",
        "colab_type": "code",
        "colab": {
          "base_uri": "https://localhost:8080/",
          "height": 0
        },
        "outputId": "4a9e1057-0be7-4bef-8884-1d113c16e894"
      },
      "source": [
        "arr"
      ],
      "execution_count": 45,
      "outputs": [
        {
          "output_type": "execute_result",
          "data": {
            "text/plain": [
              "array([[4, 1, 2, 3, 4],\n",
              "       [2, 2, 4, 1, 2]])"
            ]
          },
          "metadata": {
            "tags": []
          },
          "execution_count": 45
        }
      ]
    },
    {
      "cell_type": "code",
      "metadata": {
        "id": "WBQ0ZERQz1yx",
        "colab_type": "code",
        "colab": {
          "base_uri": "https://localhost:8080/",
          "height": 0
        },
        "outputId": "698bbbda-adae-41ef-e10f-0ad8772ececf"
      },
      "source": [
        "# calculate the cumulative sums along the row\n",
        "print(np.cumsum(arr, axis=0))    "
      ],
      "execution_count": 46,
      "outputs": [
        {
          "output_type": "stream",
          "text": [
            "[[4 1 2 3 4]\n",
            " [6 3 6 4 6]]\n"
          ],
          "name": "stdout"
        }
      ]
    },
    {
      "cell_type": "code",
      "metadata": {
        "id": "DxCYmy96z1y0",
        "colab_type": "code",
        "colab": {
          "base_uri": "https://localhost:8080/",
          "height": 0
        },
        "outputId": "f5cd2b3f-15d3-4b06-b29c-6c76af9a25d6"
      },
      "source": [
        "# calculate the cumulative sums along the column\n",
        "print(np.cumsum(arr, axis=1))    "
      ],
      "execution_count": 47,
      "outputs": [
        {
          "output_type": "stream",
          "text": [
            "[[ 4  5  7 10 14]\n",
            " [ 2  4  8  9 11]]\n"
          ],
          "name": "stdout"
        }
      ]
    },
    {
      "cell_type": "code",
      "metadata": {
        "id": "ujgApG_kz1y4",
        "colab_type": "code",
        "colab": {
          "base_uri": "https://localhost:8080/",
          "height": 0
        },
        "outputId": "50433d45-2704-4617-cfa0-8db2674f1464"
      },
      "source": [
        "# calculate the cumulative product along the row\n",
        "print(np.cumprod(arr, axis=0))   "
      ],
      "execution_count": 48,
      "outputs": [
        {
          "output_type": "stream",
          "text": [
            "[[4 1 2 3 4]\n",
            " [8 2 8 3 8]]\n"
          ],
          "name": "stdout"
        }
      ]
    },
    {
      "cell_type": "code",
      "metadata": {
        "id": "f1fdk4q-z1y8",
        "colab_type": "code",
        "colab": {
          "base_uri": "https://localhost:8080/",
          "height": 0
        },
        "outputId": "a25b00c8-630b-47e0-cf35-bad4eb97fd54"
      },
      "source": [
        "# calculate the cumulative product along the column\n",
        "print(np.cumprod(arr, axis=1))  "
      ],
      "execution_count": 49,
      "outputs": [
        {
          "output_type": "stream",
          "text": [
            "[[ 4  4  8 24 96]\n",
            " [ 2  4 16 16 32]]\n"
          ],
          "name": "stdout"
        }
      ]
    },
    {
      "cell_type": "markdown",
      "metadata": {
        "id": "c0kq-hXMz1y_",
        "colab_type": "text"
      },
      "source": [
        "### element-wise \n"
      ]
    },
    {
      "cell_type": "code",
      "metadata": {
        "id": "4O3pLmBtz1zA",
        "colab_type": "code",
        "colab": {}
      },
      "source": [
        "arr1 = np.array([1,2,3,4,5])\n",
        "arr2 = np.array([5,4,3,2,1])"
      ],
      "execution_count": 50,
      "outputs": []
    },
    {
      "cell_type": "code",
      "metadata": {
        "id": "yn-NGA30z1zC",
        "colab_type": "code",
        "colab": {
          "base_uri": "https://localhost:8080/",
          "height": 0
        },
        "outputId": "c6770de6-b064-4771-a84f-6177169711a1"
      },
      "source": [
        "# return an array of bools\n",
        "print(arr1 == arr2)    \n",
        "print(arr1 < 3)"
      ],
      "execution_count": 51,
      "outputs": [
        {
          "output_type": "stream",
          "text": [
            "[False False  True False False]\n",
            "[ True  True False False False]\n"
          ],
          "name": "stdout"
        }
      ]
    },
    {
      "cell_type": "markdown",
      "metadata": {
        "id": "6ljUnyZrz1zF",
        "colab_type": "text"
      },
      "source": [
        "### Matrix Multiplication"
      ]
    },
    {
      "cell_type": "code",
      "metadata": {
        "id": "nHAwcHSDz1zG",
        "colab_type": "code",
        "colab": {}
      },
      "source": [
        "arr1 = np.arange(0,25).reshape(5,5)\n",
        "arr2 = np.arange(0,35).reshape(5,7)"
      ],
      "execution_count": 52,
      "outputs": []
    },
    {
      "cell_type": "code",
      "metadata": {
        "id": "Xz0HbI8Qz1zM",
        "colab_type": "code",
        "colab": {
          "base_uri": "https://localhost:8080/",
          "height": 0
        },
        "outputId": "9103944a-8911-4d31-a4db-c18401d5f2c6"
      },
      "source": [
        "print(arr1.dot(arr2))\n",
        "# or\n",
        "print(np.dot(arr1, arr2))\n",
        "# or\n",
        "print(arr1 @ arr2)\n",
        "# or\n",
        "print(np.matmul(arr1,arr2))"
      ],
      "execution_count": 53,
      "outputs": [
        {
          "output_type": "stream",
          "text": [
            "[[ 210  220  230  240  250  260  270]\n",
            " [ 560  595  630  665  700  735  770]\n",
            " [ 910  970 1030 1090 1150 1210 1270]\n",
            " [1260 1345 1430 1515 1600 1685 1770]\n",
            " [1610 1720 1830 1940 2050 2160 2270]]\n",
            "[[ 210  220  230  240  250  260  270]\n",
            " [ 560  595  630  665  700  735  770]\n",
            " [ 910  970 1030 1090 1150 1210 1270]\n",
            " [1260 1345 1430 1515 1600 1685 1770]\n",
            " [1610 1720 1830 1940 2050 2160 2270]]\n",
            "[[ 210  220  230  240  250  260  270]\n",
            " [ 560  595  630  665  700  735  770]\n",
            " [ 910  970 1030 1090 1150 1210 1270]\n",
            " [1260 1345 1430 1515 1600 1685 1770]\n",
            " [1610 1720 1830 1940 2050 2160 2270]]\n",
            "[[ 210  220  230  240  250  260  270]\n",
            " [ 560  595  630  665  700  735  770]\n",
            " [ 910  970 1030 1090 1150 1210 1270]\n",
            " [1260 1345 1430 1515 1600 1685 1770]\n",
            " [1610 1720 1830 1940 2050 2160 2270]]\n"
          ],
          "name": "stdout"
        }
      ]
    },
    {
      "cell_type": "code",
      "metadata": {
        "id": "OfG0oKwyz1zR",
        "colab_type": "code",
        "colab": {}
      },
      "source": [
        ""
      ],
      "execution_count": 53,
      "outputs": []
    }
  ]
}