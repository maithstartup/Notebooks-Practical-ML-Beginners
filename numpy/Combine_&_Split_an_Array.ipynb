{
  "nbformat": 4,
  "nbformat_minor": 0,
  "metadata": {
    "kernelspec": {
      "display_name": "Python 3",
      "language": "python",
      "name": "python3"
    },
    "language_info": {
      "codemirror_mode": {
        "name": "ipython",
        "version": 3
      },
      "file_extension": ".py",
      "mimetype": "text/x-python",
      "name": "python",
      "nbconvert_exporter": "python",
      "pygments_lexer": "ipython3",
      "version": "3.7.4"
    },
    "colab": {
      "name": "Combine & Split an Array.ipynb",
      "provenance": [],
      "include_colab_link": true
    }
  },
  "cells": [
    {
      "cell_type": "markdown",
      "metadata": {
        "id": "view-in-github",
        "colab_type": "text"
      },
      "source": [
        "<a href=\"https://colab.research.google.com/github/maithstartup/Notebooks-Practical-ML-Beginners/blob/master/numpy/Combine_%26_Split_an_Array.ipynb\" target=\"_parent\"><img src=\"https://colab.research.google.com/assets/colab-badge.svg\" alt=\"Open In Colab\"/></a>"
      ]
    },
    {
      "cell_type": "markdown",
      "metadata": {
        "id": "icQXG703sTbu",
        "colab_type": "text"
      },
      "source": [
        "# Combine and splitting array"
      ]
    },
    {
      "cell_type": "code",
      "metadata": {
        "id": "4zxnvOLzrphf",
        "colab_type": "code",
        "colab": {}
      },
      "source": [
        "import numpy as np"
      ],
      "execution_count": 1,
      "outputs": []
    },
    {
      "cell_type": "code",
      "metadata": {
        "id": "_uiDYTafrphi",
        "colab_type": "code",
        "colab": {}
      },
      "source": [
        "arr1 = np.array([[1,2,3,4], [10,20,30,40]])\n",
        "arr2 = np.array([[5,6,7,8], [50,60,70,80]])"
      ],
      "execution_count": 2,
      "outputs": []
    },
    {
      "cell_type": "markdown",
      "metadata": {
        "id": "ISkYYj_Grphm",
        "colab_type": "text"
      },
      "source": [
        "### ```np.concatenate((a, b), axis=0)```"
      ]
    },
    {
      "cell_type": "code",
      "metadata": {
        "id": "NMO9b6NNr05B",
        "colab_type": "code",
        "colab": {
          "base_uri": "https://localhost:8080/",
          "height": 84
        },
        "outputId": "1bdaed44-f3ca-4247-86b3-bfcb7a193ae9"
      },
      "source": [
        "print(arr1)\n",
        "print(arr2)"
      ],
      "execution_count": 3,
      "outputs": [
        {
          "output_type": "stream",
          "text": [
            "[[ 1  2  3  4]\n",
            " [10 20 30 40]]\n",
            "[[ 5  6  7  8]\n",
            " [50 60 70 80]]\n"
          ],
          "name": "stdout"
        }
      ]
    },
    {
      "cell_type": "code",
      "metadata": {
        "id": "k7fgZi4mrphm",
        "colab_type": "code",
        "colab": {
          "base_uri": "https://localhost:8080/",
          "height": 101
        },
        "outputId": "353faa92-c46f-41da-d51d-6663aab49da8"
      },
      "source": [
        "# concat along the row\n",
        "cat = np.concatenate((arr1, arr2), axis=0)        \n",
        "print(cat)\n",
        "print(cat.shape)"
      ],
      "execution_count": 4,
      "outputs": [
        {
          "output_type": "stream",
          "text": [
            "[[ 1  2  3  4]\n",
            " [10 20 30 40]\n",
            " [ 5  6  7  8]\n",
            " [50 60 70 80]]\n",
            "(4, 4)\n"
          ],
          "name": "stdout"
        }
      ]
    },
    {
      "cell_type": "code",
      "metadata": {
        "id": "eAaGNaQOrphp",
        "colab_type": "code",
        "colab": {
          "base_uri": "https://localhost:8080/",
          "height": 67
        },
        "outputId": "83dd867f-bbac-4a88-91ab-7fd6b99d7190"
      },
      "source": [
        "# concat along the column\n",
        "cat = np.concatenate((arr1, arr2), axis=1)    \n",
        "print(cat)\n",
        "print(cat.shape)"
      ],
      "execution_count": 5,
      "outputs": [
        {
          "output_type": "stream",
          "text": [
            "[[ 1  2  3  4  5  6  7  8]\n",
            " [10 20 30 40 50 60 70 80]]\n",
            "(2, 8)\n"
          ],
          "name": "stdout"
        }
      ]
    },
    {
      "cell_type": "markdown",
      "metadata": {
        "id": "NAntyzmsrphs",
        "colab_type": "text"
      },
      "source": [
        "### ```np.vstack((a, b))``` \n",
        "### ```np.r_[a, b]```"
      ]
    },
    {
      "cell_type": "code",
      "metadata": {
        "id": "4Crazwcvrphs",
        "colab_type": "code",
        "colab": {
          "base_uri": "https://localhost:8080/",
          "height": 84
        },
        "outputId": "22c26fa3-df4f-4f54-c211-21a974d9b2c7"
      },
      "source": [
        "# stack arrays vertically\n",
        "cat = np.vstack((arr1, arr2))\n",
        "print(cat)"
      ],
      "execution_count": 6,
      "outputs": [
        {
          "output_type": "stream",
          "text": [
            "[[ 1  2  3  4]\n",
            " [10 20 30 40]\n",
            " [ 5  6  7  8]\n",
            " [50 60 70 80]]\n"
          ],
          "name": "stdout"
        }
      ]
    },
    {
      "cell_type": "code",
      "metadata": {
        "id": "m5ody7XNrphu",
        "colab_type": "code",
        "colab": {
          "base_uri": "https://localhost:8080/",
          "height": 84
        },
        "outputId": "ed50492c-cac6-446d-c685-4c1842b73c3d"
      },
      "source": [
        "# stack arrays vertically\n",
        "cat = np.r_[arr1, arr2]\n",
        "print(cat)"
      ],
      "execution_count": 7,
      "outputs": [
        {
          "output_type": "stream",
          "text": [
            "[[ 1  2  3  4]\n",
            " [10 20 30 40]\n",
            " [ 5  6  7  8]\n",
            " [50 60 70 80]]\n"
          ],
          "name": "stdout"
        }
      ]
    },
    {
      "cell_type": "markdown",
      "metadata": {
        "id": "3O6ily8Orphw",
        "colab_type": "text"
      },
      "source": [
        "### ```np.hstack((a, b))```\n",
        "### ```np.c_[a, b]```"
      ]
    },
    {
      "cell_type": "code",
      "metadata": {
        "id": "rGTdknfXrphx",
        "colab_type": "code",
        "colab": {
          "base_uri": "https://localhost:8080/",
          "height": 50
        },
        "outputId": "eb1596f3-0f23-487c-d74e-f22c9f811e48"
      },
      "source": [
        "# stack arrays horizontally\n",
        "cat = np.hstack((arr1, arr2))\n",
        "print(cat)"
      ],
      "execution_count": 8,
      "outputs": [
        {
          "output_type": "stream",
          "text": [
            "[[ 1  2  3  4  5  6  7  8]\n",
            " [10 20 30 40 50 60 70 80]]\n"
          ],
          "name": "stdout"
        }
      ]
    },
    {
      "cell_type": "code",
      "metadata": {
        "id": "ZFOpvcJprph0",
        "colab_type": "code",
        "colab": {
          "base_uri": "https://localhost:8080/",
          "height": 50
        },
        "outputId": "cbca687d-f9ec-4a8a-dc0c-b5878e1f2cf1"
      },
      "source": [
        "# stack arrays horizontally\n",
        "cat = np.c_[arr1, arr2]\n",
        "print(cat)"
      ],
      "execution_count": 9,
      "outputs": [
        {
          "output_type": "stream",
          "text": [
            "[[ 1  2  3  4  5  6  7  8]\n",
            " [10 20 30 40 50 60 70 80]]\n"
          ],
          "name": "stdout"
        }
      ]
    },
    {
      "cell_type": "markdown",
      "metadata": {
        "id": "qz0Ikwd-rph2",
        "colab_type": "text"
      },
      "source": [
        "### split an array "
      ]
    },
    {
      "cell_type": "code",
      "metadata": {
        "id": "8x0BoE9-rph2",
        "colab_type": "code",
        "colab": {}
      },
      "source": [
        "arr = np.arange(0,32).reshape(8,4)"
      ],
      "execution_count": 10,
      "outputs": []
    },
    {
      "cell_type": "code",
      "metadata": {
        "id": "lOuWb4VetFl9",
        "colab_type": "code",
        "colab": {
          "base_uri": "https://localhost:8080/",
          "height": 151
        },
        "outputId": "67d5fe9a-ee91-4909-deb5-aaf81f25ef89"
      },
      "source": [
        "arr"
      ],
      "execution_count": 11,
      "outputs": [
        {
          "output_type": "execute_result",
          "data": {
            "text/plain": [
              "array([[ 0,  1,  2,  3],\n",
              "       [ 4,  5,  6,  7],\n",
              "       [ 8,  9, 10, 11],\n",
              "       [12, 13, 14, 15],\n",
              "       [16, 17, 18, 19],\n",
              "       [20, 21, 22, 23],\n",
              "       [24, 25, 26, 27],\n",
              "       [28, 29, 30, 31]])"
            ]
          },
          "metadata": {
            "tags": []
          },
          "execution_count": 11
        }
      ]
    },
    {
      "cell_type": "code",
      "metadata": {
        "id": "9PqCmgG_rph4",
        "colab_type": "code",
        "colab": {
          "base_uri": "https://localhost:8080/",
          "height": 134
        },
        "outputId": "60deafef-7d23-4b29-d43c-50fd47533b99"
      },
      "source": [
        "# split the array vertically into n evenly spaced chunks\n",
        "arr1 = np.vsplit(arr, 2)\n",
        "print(arr1)"
      ],
      "execution_count": 12,
      "outputs": [
        {
          "output_type": "stream",
          "text": [
            "[array([[ 0,  1,  2,  3],\n",
            "       [ 4,  5,  6,  7],\n",
            "       [ 8,  9, 10, 11],\n",
            "       [12, 13, 14, 15]]), array([[16, 17, 18, 19],\n",
            "       [20, 21, 22, 23],\n",
            "       [24, 25, 26, 27],\n",
            "       [28, 29, 30, 31]])]\n"
          ],
          "name": "stdout"
        }
      ]
    },
    {
      "cell_type": "code",
      "metadata": {
        "id": "dkTjVDLErph7",
        "colab_type": "code",
        "colab": {
          "base_uri": "https://localhost:8080/",
          "height": 504
        },
        "outputId": "52de3337-7a04-4edd-ea96-380769fba29e"
      },
      "source": [
        "# split the array horizontally into n evenly spaced chunks\n",
        "arr2 = np.hsplit(arr, 4)\n",
        "print(arr2)"
      ],
      "execution_count": 13,
      "outputs": [
        {
          "output_type": "stream",
          "text": [
            "[array([[ 0],\n",
            "       [ 4],\n",
            "       [ 8],\n",
            "       [12],\n",
            "       [16],\n",
            "       [20],\n",
            "       [24],\n",
            "       [28]]), array([[ 1],\n",
            "       [ 5],\n",
            "       [ 9],\n",
            "       [13],\n",
            "       [17],\n",
            "       [21],\n",
            "       [25],\n",
            "       [29]]), array([[ 2],\n",
            "       [ 6],\n",
            "       [10],\n",
            "       [14],\n",
            "       [18],\n",
            "       [22],\n",
            "       [26],\n",
            "       [30]]), array([[ 3],\n",
            "       [ 7],\n",
            "       [11],\n",
            "       [15],\n",
            "       [19],\n",
            "       [23],\n",
            "       [27],\n",
            "       [31]])]\n"
          ],
          "name": "stdout"
        }
      ]
    }
  ]
}