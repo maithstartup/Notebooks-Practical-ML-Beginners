{
  "nbformat": 4,
  "nbformat_minor": 0,
  "metadata": {
    "kernelspec": {
      "display_name": "Python 3",
      "language": "python",
      "name": "python3"
    },
    "language_info": {
      "codemirror_mode": {
        "name": "ipython",
        "version": 3
      },
      "file_extension": ".py",
      "mimetype": "text/x-python",
      "name": "python",
      "nbconvert_exporter": "python",
      "pygments_lexer": "ipython3",
      "version": "3.7.4"
    },
    "colab": {
      "name": " Sort an Array.ipynb",
      "provenance": [],
      "include_colab_link": true
    }
  },
  "cells": [
    {
      "cell_type": "markdown",
      "metadata": {
        "id": "view-in-github",
        "colab_type": "text"
      },
      "source": [
        "<a href=\"https://colab.research.google.com/github/maithstartup/Notebooks-Practical-ML-Beginners/blob/master/numpy/Sort_an_Array.ipynb\" target=\"_parent\"><img src=\"https://colab.research.google.com/assets/colab-badge.svg\" alt=\"Open In Colab\"/></a>"
      ]
    },
    {
      "cell_type": "code",
      "metadata": {
        "id": "gVtqkOGWG3vO",
        "colab_type": "code",
        "colab": {}
      },
      "source": [
        "import numpy as np"
      ],
      "execution_count": 1,
      "outputs": []
    },
    {
      "cell_type": "code",
      "metadata": {
        "id": "aCqiWxLkG3vS",
        "colab_type": "code",
        "colab": {}
      },
      "source": [
        "arr = np.random.choice(range(20,40),size=20).reshape(2,10)"
      ],
      "execution_count": 2,
      "outputs": []
    },
    {
      "cell_type": "code",
      "metadata": {
        "id": "6hdk6oY-G3vW",
        "colab_type": "code",
        "colab": {
          "base_uri": "https://localhost:8080/",
          "height": 50
        },
        "outputId": "bd594e2a-5862-4c97-fa36-2891a318b7b5"
      },
      "source": [
        "arr"
      ],
      "execution_count": 3,
      "outputs": [
        {
          "output_type": "execute_result",
          "data": {
            "text/plain": [
              "array([[24, 34, 27, 27, 26, 39, 32, 37, 33, 30],\n",
              "       [21, 38, 30, 24, 29, 31, 28, 39, 26, 38]])"
            ]
          },
          "metadata": {
            "tags": []
          },
          "execution_count": 3
        }
      ]
    },
    {
      "cell_type": "markdown",
      "metadata": {
        "id": "5DXMAPsFG3vb",
        "colab_type": "text"
      },
      "source": [
        "Default sort used is quicksort"
      ]
    },
    {
      "cell_type": "markdown",
      "metadata": {
        "id": "aNoHordoG3vc",
        "colab_type": "text"
      },
      "source": [
        "### sort an array along a specified axis"
      ]
    },
    {
      "cell_type": "code",
      "metadata": {
        "id": "fG_rY8lpG3vc",
        "colab_type": "code",
        "colab": {
          "base_uri": "https://localhost:8080/",
          "height": 50
        },
        "outputId": "4b13d259-c405-449c-eb66-5dacec63714e"
      },
      "source": [
        "# sort along the row and return a copy\n",
        "print(np.sort(arr, axis=0))   "
      ],
      "execution_count": 4,
      "outputs": [
        {
          "output_type": "stream",
          "text": [
            "[[21 34 27 24 26 31 28 37 26 30]\n",
            " [24 38 30 27 29 39 32 39 33 38]]\n"
          ],
          "name": "stdout"
        }
      ]
    },
    {
      "cell_type": "code",
      "metadata": {
        "id": "2FwJe5tiH0z1",
        "colab_type": "code",
        "colab": {
          "base_uri": "https://localhost:8080/",
          "height": 50
        },
        "outputId": "fdf71d69-e8d5-46f4-9ca3-2913a8a86dfa"
      },
      "source": [
        "arr"
      ],
      "execution_count": 5,
      "outputs": [
        {
          "output_type": "execute_result",
          "data": {
            "text/plain": [
              "array([[24, 34, 27, 27, 26, 39, 32, 37, 33, 30],\n",
              "       [21, 38, 30, 24, 29, 31, 28, 39, 26, 38]])"
            ]
          },
          "metadata": {
            "tags": []
          },
          "execution_count": 5
        }
      ]
    },
    {
      "cell_type": "code",
      "metadata": {
        "id": "kj8AHFnlG3vf",
        "colab_type": "code",
        "colab": {
          "base_uri": "https://localhost:8080/",
          "height": 50
        },
        "outputId": "9330bfd9-b4d8-4489-ab32-1b1a76921ec2"
      },
      "source": [
        "# sort along the row in place\n",
        "arr.sort(axis=0)\n",
        "print(arr)"
      ],
      "execution_count": 6,
      "outputs": [
        {
          "output_type": "stream",
          "text": [
            "[[21 34 27 24 26 31 28 37 26 30]\n",
            " [24 38 30 27 29 39 32 39 33 38]]\n"
          ],
          "name": "stdout"
        }
      ]
    },
    {
      "cell_type": "code",
      "metadata": {
        "id": "uWSiiznSG3vi",
        "colab_type": "code",
        "colab": {
          "base_uri": "https://localhost:8080/",
          "height": 50
        },
        "outputId": "18007cbe-3208-4a8b-d412-594285d86a3b"
      },
      "source": [
        "# sort along the column and return a copy\n",
        "print(np.sort(arr, axis=1))    "
      ],
      "execution_count": 7,
      "outputs": [
        {
          "output_type": "stream",
          "text": [
            "[[21 24 26 26 27 28 30 31 34 37]\n",
            " [24 27 29 30 32 33 38 38 39 39]]\n"
          ],
          "name": "stdout"
        }
      ]
    },
    {
      "cell_type": "code",
      "metadata": {
        "id": "vu2onRIhG3vk",
        "colab_type": "code",
        "colab": {
          "base_uri": "https://localhost:8080/",
          "height": 50
        },
        "outputId": "d07d60ff-3a01-4099-d624-6a1b4b6a3aed"
      },
      "source": [
        "# sort along the column in place\n",
        "arr.sort(axis=1)    \n",
        "print(arr)"
      ],
      "execution_count": 8,
      "outputs": [
        {
          "output_type": "stream",
          "text": [
            "[[21 24 26 26 27 28 30 31 34 37]\n",
            " [24 27 29 30 32 33 38 38 39 39]]\n"
          ],
          "name": "stdout"
        }
      ]
    },
    {
      "cell_type": "markdown",
      "metadata": {
        "id": "ofbY3edcG3vn",
        "colab_type": "text"
      },
      "source": [
        "### compute the indices that would sort an array along a specified axis"
      ]
    },
    {
      "cell_type": "code",
      "metadata": {
        "id": "YLLZnTfDG3vn",
        "colab_type": "code",
        "colab": {}
      },
      "source": [
        "arr = np.random.choice(range(20,40),size=20).reshape(2,10)"
      ],
      "execution_count": 9,
      "outputs": []
    },
    {
      "cell_type": "code",
      "metadata": {
        "id": "n83TwIf0G3vp",
        "colab_type": "code",
        "colab": {
          "base_uri": "https://localhost:8080/",
          "height": 50
        },
        "outputId": "109b11e3-1a2a-4d0e-d040-f083013c29e0"
      },
      "source": [
        "arr"
      ],
      "execution_count": 10,
      "outputs": [
        {
          "output_type": "execute_result",
          "data": {
            "text/plain": [
              "array([[34, 39, 32, 29, 27, 23, 31, 23, 31, 30],\n",
              "       [30, 36, 30, 26, 26, 31, 28, 31, 32, 23]])"
            ]
          },
          "metadata": {
            "tags": []
          },
          "execution_count": 10
        }
      ]
    },
    {
      "cell_type": "code",
      "metadata": {
        "id": "v-m4l7S-G3vr",
        "colab_type": "code",
        "colab": {
          "base_uri": "https://localhost:8080/",
          "height": 50
        },
        "outputId": "0f18931d-f2fa-4cd0-ca06-869ab7ab790b"
      },
      "source": [
        "# along the row\n",
        "print(np.argsort(arr, axis=0))"
      ],
      "execution_count": 11,
      "outputs": [
        {
          "output_type": "stream",
          "text": [
            "[[1 1 1 1 1 0 1 0 0 1]\n",
            " [0 0 0 0 0 1 0 1 1 0]]\n"
          ],
          "name": "stdout"
        }
      ]
    },
    {
      "cell_type": "code",
      "metadata": {
        "id": "ybbyggu8G3vt",
        "colab_type": "code",
        "colab": {
          "base_uri": "https://localhost:8080/",
          "height": 50
        },
        "outputId": "efd192c9-f2df-4a9d-9001-41f4ecd3b621"
      },
      "source": [
        "# along the column\n",
        "print(np.argsort(arr, axis=1))"
      ],
      "execution_count": 12,
      "outputs": [
        {
          "output_type": "stream",
          "text": [
            "[[5 7 4 3 9 6 8 2 0 1]\n",
            " [9 3 4 6 0 2 5 7 8 1]]\n"
          ],
          "name": "stdout"
        }
      ]
    },
    {
      "cell_type": "code",
      "metadata": {
        "id": "siJfX3NhG3vw",
        "colab_type": "code",
        "colab": {
          "base_uri": "https://localhost:8080/",
          "height": 34
        },
        "outputId": "705d044d-c94e-4ece-af4b-bfd6293445d9"
      },
      "source": [
        "# if axis=None, return the indices of a flattened array\n",
        "print(np.argsort(arr, axis=None))"
      ],
      "execution_count": 13,
      "outputs": [
        {
          "output_type": "stream",
          "text": [
            "[19  5  7 14 13  4 16  3 12 10  9  8  6 15 17  2 18  0 11  1]\n"
          ],
          "name": "stdout"
        }
      ]
    },
    {
      "cell_type": "code",
      "metadata": {
        "id": "gcKj91-2HNPp",
        "colab_type": "code",
        "colab": {}
      },
      "source": [
        "arr.sort()"
      ],
      "execution_count": 14,
      "outputs": []
    },
    {
      "cell_type": "code",
      "metadata": {
        "id": "6tADrTjqJwR0",
        "colab_type": "code",
        "colab": {
          "base_uri": "https://localhost:8080/",
          "height": 50
        },
        "outputId": "42390e09-b8ea-43a1-c95d-dae2edc2804a"
      },
      "source": [
        "arr"
      ],
      "execution_count": 15,
      "outputs": [
        {
          "output_type": "execute_result",
          "data": {
            "text/plain": [
              "array([[23, 23, 27, 29, 30, 31, 31, 32, 34, 39],\n",
              "       [23, 26, 26, 28, 30, 30, 31, 31, 32, 36]])"
            ]
          },
          "metadata": {
            "tags": []
          },
          "execution_count": 15
        }
      ]
    },
    {
      "cell_type": "code",
      "metadata": {
        "id": "U4WsP1CxIvBW",
        "colab_type": "code",
        "colab": {}
      },
      "source": [
        "temp=np.array([4,6,1,4,4,4])"
      ],
      "execution_count": 16,
      "outputs": []
    },
    {
      "cell_type": "code",
      "metadata": {
        "id": "KNwu8LEcI8f2",
        "colab_type": "code",
        "colab": {}
      },
      "source": [
        "temp.sort()"
      ],
      "execution_count": 17,
      "outputs": []
    },
    {
      "cell_type": "code",
      "metadata": {
        "id": "z7sJhdNBJACR",
        "colab_type": "code",
        "colab": {
          "base_uri": "https://localhost:8080/",
          "height": 34
        },
        "outputId": "37f4328d-642f-4b5d-e2c4-3d7da6eeda22"
      },
      "source": [
        "np.argsort(temp)"
      ],
      "execution_count": 18,
      "outputs": [
        {
          "output_type": "execute_result",
          "data": {
            "text/plain": [
              "array([0, 1, 2, 3, 4, 5])"
            ]
          },
          "metadata": {
            "tags": []
          },
          "execution_count": 18
        }
      ]
    },
    {
      "cell_type": "code",
      "metadata": {
        "id": "MSU36JaXJDG8",
        "colab_type": "code",
        "colab": {}
      },
      "source": [
        "temp2=np.array([7,3,5,30,45,2,9])"
      ],
      "execution_count": 19,
      "outputs": []
    },
    {
      "cell_type": "code",
      "metadata": {
        "id": "_wShDvFUJVsp",
        "colab_type": "code",
        "colab": {
          "base_uri": "https://localhost:8080/",
          "height": 34
        },
        "outputId": "851adf05-039f-45c8-c3fe-fd6a5214c676"
      },
      "source": [
        "np.argsort(temp2)"
      ],
      "execution_count": 20,
      "outputs": [
        {
          "output_type": "execute_result",
          "data": {
            "text/plain": [
              "array([5, 1, 2, 0, 6, 3, 4])"
            ]
          },
          "metadata": {
            "tags": []
          },
          "execution_count": 20
        }
      ]
    }
  ]
}