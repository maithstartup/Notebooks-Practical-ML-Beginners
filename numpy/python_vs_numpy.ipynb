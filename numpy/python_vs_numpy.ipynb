{
  "nbformat": 4,
  "nbformat_minor": 0,
  "metadata": {
    "kernelspec": {
      "display_name": "Python 3",
      "language": "python",
      "name": "python3"
    },
    "language_info": {
      "codemirror_mode": {
        "name": "ipython",
        "version": 3
      },
      "file_extension": ".py",
      "mimetype": "text/x-python",
      "name": "python",
      "nbconvert_exporter": "python",
      "pygments_lexer": "ipython3",
      "version": "3.7.4"
    },
    "colab": {
      "name": "python vs numpy.ipynb",
      "provenance": [],
      "include_colab_link": true
    }
  },
  "cells": [
    {
      "cell_type": "markdown",
      "metadata": {
        "id": "view-in-github",
        "colab_type": "text"
      },
      "source": [
        "<a href=\"https://colab.research.google.com/github/maithstartup/Notebooks-Practical-ML-Beginners/blob/master/numpy/python_vs_numpy.ipynb\" target=\"_parent\"><img src=\"https://colab.research.google.com/assets/colab-badge.svg\" alt=\"Open In Colab\"/></a>"
      ]
    },
    {
      "cell_type": "markdown",
      "metadata": {
        "id": "XWH8zqmZvlmI"
      },
      "source": [
        "### Comparing effciency of python list vs numpy"
      ]
    },
    {
      "cell_type": "markdown",
      "metadata": {
        "id": "ZfiVVA_Rt4uO"
      },
      "source": [
        "**Importing libraries**"
      ]
    },
    {
      "cell_type": "code",
      "metadata": {
        "id": "I5n3dx-8thZy"
      },
      "source": [
        "import numpy as np\n",
        "import time"
      ],
      "execution_count": null,
      "outputs": []
    },
    {
      "cell_type": "markdown",
      "metadata": {
        "id": "wHV8Za-uuqd3"
      },
      "source": [
        "Creating list in python"
      ]
    },
    {
      "cell_type": "code",
      "metadata": {
        "id": "R71s47o6thZ3"
      },
      "source": [
        "a=range(0,10000000)\n",
        "b=range(10000000,20000000)"
      ],
      "execution_count": null,
      "outputs": []
    },
    {
      "cell_type": "markdown",
      "metadata": {
        "id": "3GUPtWM2ut_v"
      },
      "source": [
        "Doing the element wise multiplication in python"
      ]
    },
    {
      "cell_type": "code",
      "metadata": {
        "id": "sGVT2dJKthZ7",
        "outputId": "a20ff32b-8f87-4a94-afce-9664bc2cf031",
        "colab": {
          "base_uri": "https://localhost:8080/",
          "height": 34
        }
      },
      "source": [
        "c=[]\n",
        "start=time.process_time()\n",
        "for i in range(len(a)):\n",
        "    c.append(a[i]*b[i])\n",
        "stop=time.process_time()\n",
        "py_time=stop-start\n",
        "print(py_time)"
      ],
      "execution_count": null,
      "outputs": [
        {
          "output_type": "stream",
          "text": [
            "3.969024542\n"
          ],
          "name": "stdout"
        }
      ]
    },
    {
      "cell_type": "markdown",
      "metadata": {
        "id": "wKOjGczUvAcK"
      },
      "source": [
        "converting list to numpy array"
      ]
    },
    {
      "cell_type": "code",
      "metadata": {
        "id": "dsOPhmCCthZ-"
      },
      "source": [
        "a_np=np.array(a,dtype=np.int64)\n",
        "b_np=np.array(b,dtype=np.int64)"
      ],
      "execution_count": null,
      "outputs": []
    },
    {
      "cell_type": "markdown",
      "metadata": {
        "id": "S92cd2NyvFr-"
      },
      "source": [
        "Doing the element wise multiplication in Numpy"
      ]
    },
    {
      "cell_type": "code",
      "metadata": {
        "id": "HHfjmo41thaC",
        "outputId": "ed3bc0d2-19b5-4495-bc65-c9cae267bf8a",
        "colab": {
          "base_uri": "https://localhost:8080/",
          "height": 34
        }
      },
      "source": [
        "\n",
        "start=time.process_time()\n",
        "c_np=a_np*b_np\n",
        "stop=time.process_time()\n",
        "num_py=stop-start\n",
        "print(num_py)\n"
      ],
      "execution_count": null,
      "outputs": [
        {
          "output_type": "stream",
          "text": [
            "0.0302829899999999\n"
          ],
          "name": "stdout"
        }
      ]
    },
    {
      "cell_type": "markdown",
      "metadata": {
        "id": "TSfX5cxKvQ41"
      },
      "source": [
        "comparing the time"
      ]
    },
    {
      "cell_type": "code",
      "metadata": {
        "id": "F15Ei6W5thaG",
        "outputId": "1bcff0d3-5e27-4f56-a1c8-fb447ce08821",
        "colab": {
          "base_uri": "https://localhost:8080/",
          "height": 34
        }
      },
      "source": [
        "py_time/num_py"
      ],
      "execution_count": null,
      "outputs": [
        {
          "output_type": "execute_result",
          "data": {
            "text/plain": [
              "131.06448676303143"
            ]
          },
          "metadata": {
            "tags": []
          },
          "execution_count": 12
        }
      ]
    },
    {
      "cell_type": "markdown",
      "metadata": {
        "id": "6v1Mj5vfthaJ"
      },
      "source": [
        "checking output"
      ]
    },
    {
      "cell_type": "code",
      "metadata": {
        "id": "_3MbDm63thaK",
        "outputId": "53bd9f88-4ad7-46a3-dd74-6aecb56ece53",
        "colab": {
          "base_uri": "https://localhost:8080/",
          "height": 34
        }
      },
      "source": [
        "c_np.sum()"
      ],
      "execution_count": null,
      "outputs": [
        {
          "output_type": "execute_result",
          "data": {
            "text/plain": [
              "3229750016405177280"
            ]
          },
          "metadata": {
            "tags": []
          },
          "execution_count": 13
        }
      ]
    },
    {
      "cell_type": "code",
      "metadata": {
        "id": "4x1d6cOPthaQ",
        "outputId": "b4494ab7-b705-4b56-c921-88cb8a1f64ab",
        "colab": {
          "base_uri": "https://localhost:8080/",
          "height": 34
        }
      },
      "source": [
        "c_temp=np.array(c)\n",
        "c_temp.sum()"
      ],
      "execution_count": null,
      "outputs": [
        {
          "output_type": "execute_result",
          "data": {
            "text/plain": [
              "3229750016405177280"
            ]
          },
          "metadata": {
            "tags": []
          },
          "execution_count": 14
        }
      ]
    },
    {
      "cell_type": "code",
      "metadata": {
        "id": "wiMSTR_IvyXg"
      },
      "source": [
        ""
      ],
      "execution_count": null,
      "outputs": []
    }
  ]
}