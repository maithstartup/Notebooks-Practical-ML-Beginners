{
  "nbformat": 4,
  "nbformat_minor": 0,
  "metadata": {
    "kernelspec": {
      "display_name": "Python 3",
      "language": "python",
      "name": "python3"
    },
    "language_info": {
      "codemirror_mode": {
        "name": "ipython",
        "version": 3
      },
      "file_extension": ".py",
      "mimetype": "text/x-python",
      "name": "python",
      "nbconvert_exporter": "python",
      "pygments_lexer": "ipython3",
      "version": "3.7.4"
    },
    "colab": {
      "name": "Set Operations.ipynb",
      "provenance": [],
      "include_colab_link": true
    }
  },
  "cells": [
    {
      "cell_type": "markdown",
      "metadata": {
        "id": "view-in-github",
        "colab_type": "text"
      },
      "source": [
        "<a href=\"https://colab.research.google.com/github/maithstartup/Notebooks-Practical-ML-Beginners/blob/master/numpy/Set_Operations.ipynb\" target=\"_parent\"><img src=\"https://colab.research.google.com/assets/colab-badge.svg\" alt=\"Open In Colab\"/></a>"
      ]
    },
    {
      "cell_type": "code",
      "metadata": {
        "id": "2aHobVtduHEt",
        "colab_type": "code",
        "colab": {}
      },
      "source": [
        "import numpy as np"
      ],
      "execution_count": null,
      "outputs": []
    },
    {
      "cell_type": "markdown",
      "metadata": {
        "id": "DFO0k6P_uHEw",
        "colab_type": "text"
      },
      "source": [
        "### select the unique elements from an array"
      ]
    },
    {
      "cell_type": "code",
      "metadata": {
        "id": "RWWw8SN8uHEx",
        "colab_type": "code",
        "colab": {
          "base_uri": "https://localhost:8080/",
          "height": 34
        },
        "outputId": "3459f77e-aa80-4602-c80c-2b3a307b4c65"
      },
      "source": [
        "arr = np.array([1,1,2,2,3,3,4,5,6])\n",
        "print(np.unique(arr))"
      ],
      "execution_count": null,
      "outputs": [
        {
          "output_type": "stream",
          "text": [
            "[1 2 3 4 5 6]\n"
          ],
          "name": "stdout"
        }
      ]
    },
    {
      "cell_type": "code",
      "metadata": {
        "id": "sFTVkvvruHEz",
        "colab_type": "code",
        "colab": {
          "base_uri": "https://localhost:8080/",
          "height": 50
        },
        "outputId": "ead15106-7a73-40de-d8a5-1397f1b8f18b"
      },
      "source": [
        "# return the number of times each unique item appears\n",
        "arr = np.array([1,1,2,2,3,3,4,5,6])\n",
        "uniques, counts = np.unique(arr, return_counts=True)\n",
        "print(uniques)\n",
        "print(counts)"
      ],
      "execution_count": null,
      "outputs": [
        {
          "output_type": "stream",
          "text": [
            "[1 2 3 4 5 6]\n",
            "[2 2 2 1 1 1]\n"
          ],
          "name": "stdout"
        }
      ]
    },
    {
      "cell_type": "markdown",
      "metadata": {
        "id": "Ru6cMdnAuHE2",
        "colab_type": "text"
      },
      "source": [
        "### compute the intersection & union of two arrays"
      ]
    },
    {
      "cell_type": "code",
      "metadata": {
        "id": "6TIukRpYuHE2",
        "colab_type": "code",
        "colab": {}
      },
      "source": [
        "arr1 = np.array([1,2,3,4,5])\n",
        "arr2 = np.array([3,4,5,6,7])"
      ],
      "execution_count": null,
      "outputs": []
    },
    {
      "cell_type": "code",
      "metadata": {
        "id": "ALsY83eGuHE5",
        "colab_type": "code",
        "colab": {
          "base_uri": "https://localhost:8080/",
          "height": 34
        },
        "outputId": "0e229601-7dc6-4bd6-ac55-2bafcc20d9b9"
      },
      "source": [
        "# intersection\n",
        "print(np.intersect1d(arr1, arr2))"
      ],
      "execution_count": null,
      "outputs": [
        {
          "output_type": "stream",
          "text": [
            "[3 4 5]\n"
          ],
          "name": "stdout"
        }
      ]
    },
    {
      "cell_type": "code",
      "metadata": {
        "id": "psih6AQTuHE8",
        "colab_type": "code",
        "colab": {
          "base_uri": "https://localhost:8080/",
          "height": 34
        },
        "outputId": "6a0f4d55-95fa-4521-a074-c5cc5cab8dd7"
      },
      "source": [
        "# union\n",
        "print(np.union1d(arr1, arr2))"
      ],
      "execution_count": null,
      "outputs": [
        {
          "output_type": "stream",
          "text": [
            "[1 2 3 4 5 6 7]\n"
          ],
          "name": "stdout"
        }
      ]
    },
    {
      "cell_type": "markdown",
      "metadata": {
        "id": "jINemry1uHE-",
        "colab_type": "text"
      },
      "source": [
        "### compute whether each element of an array is contained in another"
      ]
    },
    {
      "cell_type": "code",
      "metadata": {
        "id": "8RlV_U_VuHE_",
        "colab_type": "code",
        "colab": {
          "base_uri": "https://localhost:8080/",
          "height": 34
        },
        "outputId": "8b8696c1-0d43-47d9-fc5d-9a49963bb0e2"
      },
      "source": [
        "print(np.in1d(arr2,arr1))"
      ],
      "execution_count": null,
      "outputs": [
        {
          "output_type": "stream",
          "text": [
            "[ True  True  True False False]\n"
          ],
          "name": "stdout"
        }
      ]
    },
    {
      "cell_type": "code",
      "metadata": {
        "id": "vI3MpdPguHFC",
        "colab_type": "code",
        "colab": {
          "base_uri": "https://localhost:8080/",
          "height": 34
        },
        "outputId": "fdf93791-dc27-4a16-a352-17ece954f216"
      },
      "source": [
        "# preserve the shape of the array in the output, if the array is of higher dimensions\n",
        "print(np.isin(arr1, arr2))"
      ],
      "execution_count": null,
      "outputs": [
        {
          "output_type": "stream",
          "text": [
            "[False False  True  True  True]\n"
          ],
          "name": "stdout"
        }
      ]
    },
    {
      "cell_type": "markdown",
      "metadata": {
        "id": "ue3aIUADuHFE",
        "colab_type": "text"
      },
      "source": [
        "### compute the elements in an array that are not in another"
      ]
    },
    {
      "cell_type": "code",
      "metadata": {
        "id": "VRhGm9SzuHFE",
        "colab_type": "code",
        "colab": {
          "base_uri": "https://localhost:8080/",
          "height": 34
        },
        "outputId": "be77d6a6-8fea-43e4-fc5b-b1377c44adb7"
      },
      "source": [
        "print(np.setdiff1d(arr1, arr2))"
      ],
      "execution_count": null,
      "outputs": [
        {
          "output_type": "stream",
          "text": [
            "[1 2]\n"
          ],
          "name": "stdout"
        }
      ]
    },
    {
      "cell_type": "markdown",
      "metadata": {
        "id": "OUDpTukfuHFG",
        "colab_type": "text"
      },
      "source": [
        "### compute the elements in either of two arrays, but not both"
      ]
    },
    {
      "cell_type": "code",
      "metadata": {
        "id": "MR6gwBw6uHFG",
        "colab_type": "code",
        "colab": {
          "base_uri": "https://localhost:8080/",
          "height": 34
        },
        "outputId": "92d33203-65cc-4710-a2fc-cc4ad8d122d0"
      },
      "source": [
        "print(np.setxor1d(arr1, arr2))"
      ],
      "execution_count": null,
      "outputs": [
        {
          "output_type": "stream",
          "text": [
            "[1 2 6 7]\n"
          ],
          "name": "stdout"
        }
      ]
    },
    {
      "cell_type": "code",
      "metadata": {
        "id": "zVhl0Oc8uHFI",
        "colab_type": "code",
        "colab": {}
      },
      "source": [
        ""
      ],
      "execution_count": null,
      "outputs": []
    }
  ]
}