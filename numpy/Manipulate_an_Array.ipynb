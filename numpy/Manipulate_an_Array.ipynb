{
  "nbformat": 4,
  "nbformat_minor": 0,
  "metadata": {
    "kernelspec": {
      "display_name": "Python 3",
      "language": "python",
      "name": "python3"
    },
    "language_info": {
      "codemirror_mode": {
        "name": "ipython",
        "version": 3
      },
      "file_extension": ".py",
      "mimetype": "text/x-python",
      "name": "python",
      "nbconvert_exporter": "python",
      "pygments_lexer": "ipython3",
      "version": "3.7.4"
    },
    "colab": {
      "name": "Manipulate an Array.ipynb",
      "provenance": [],
      "include_colab_link": true
    }
  },
  "cells": [
    {
      "cell_type": "markdown",
      "metadata": {
        "id": "view-in-github",
        "colab_type": "text"
      },
      "source": [
        "<a href=\"https://colab.research.google.com/github/maithstartup/Notebooks-Practical-ML-Beginners/blob/master/numpy/Manipulate_an_Array.ipynb\" target=\"_parent\"><img src=\"https://colab.research.google.com/assets/colab-badge.svg\" alt=\"Open In Colab\"/></a>"
      ]
    },
    {
      "cell_type": "code",
      "metadata": {
        "id": "GHfDWPMAnoVz",
        "colab_type": "code",
        "colab": {}
      },
      "source": [
        "import numpy as np"
      ],
      "execution_count": null,
      "outputs": []
    },
    {
      "cell_type": "code",
      "metadata": {
        "id": "84Fkn5NenoV2",
        "colab_type": "code",
        "colab": {}
      },
      "source": [
        "arr = np.arange(20,30).reshape(2,5)"
      ],
      "execution_count": null,
      "outputs": []
    },
    {
      "cell_type": "code",
      "metadata": {
        "id": "Ak62NuZUnoV4",
        "colab_type": "code",
        "colab": {
          "base_uri": "https://localhost:8080/",
          "height": 50
        },
        "outputId": "f0bd89dc-80d2-4911-e5ca-24c1742643b8"
      },
      "source": [
        "arr"
      ],
      "execution_count": null,
      "outputs": [
        {
          "output_type": "execute_result",
          "data": {
            "text/plain": [
              "array([[20, 21, 22, 23, 24],\n",
              "       [25, 26, 27, 28, 29]])"
            ]
          },
          "metadata": {
            "tags": []
          },
          "execution_count": 3
        }
      ]
    },
    {
      "cell_type": "markdown",
      "metadata": {
        "id": "MMXMs5YqnoV7",
        "colab_type": "text"
      },
      "source": [
        "### transpose an array"
      ]
    },
    {
      "cell_type": "code",
      "metadata": {
        "id": "-ukuF0VinoV7",
        "colab_type": "code",
        "colab": {
          "base_uri": "https://localhost:8080/",
          "height": 269
        },
        "outputId": "c44cef5e-5e2f-4ae7-bb30-381cb3f42e41"
      },
      "source": [
        "# the following methods return a copy\n",
        "print(arr.T)\n",
        "# or \n",
        "print(np.transpose(arr))\n",
        "# or\n",
        "print(arr.transpose())"
      ],
      "execution_count": null,
      "outputs": [
        {
          "output_type": "stream",
          "text": [
            "[[20 25]\n",
            " [21 26]\n",
            " [22 27]\n",
            " [23 28]\n",
            " [24 29]]\n",
            "[[20 25]\n",
            " [21 26]\n",
            " [22 27]\n",
            " [23 28]\n",
            " [24 29]]\n",
            "[[20 25]\n",
            " [21 26]\n",
            " [22 27]\n",
            " [23 28]\n",
            " [24 29]]\n"
          ],
          "name": "stdout"
        }
      ]
    },
    {
      "cell_type": "markdown",
      "metadata": {
        "id": "ZilqDnIUnoV9",
        "colab_type": "text"
      },
      "source": [
        "### transpose of a high dimensional array with specified order of axes"
      ]
    },
    {
      "cell_type": "code",
      "metadata": {
        "id": "CoGBWkDXnoV-",
        "colab_type": "code",
        "colab": {
          "base_uri": "https://localhost:8080/",
          "height": 118
        },
        "outputId": "d290afa0-2f39-47af-f5bc-5f6838778b49"
      },
      "source": [
        "arr1 = np.arange(16).reshape((2,2,4))\n",
        "print(arr1)\n",
        "print(arr1.shape)\n",
        "\n"
      ],
      "execution_count": null,
      "outputs": [
        {
          "output_type": "stream",
          "text": [
            "[[[ 0  1  2  3]\n",
            "  [ 4  5  6  7]]\n",
            "\n",
            " [[ 8  9 10 11]\n",
            "  [12 13 14 15]]]\n",
            "(2, 2, 4)\n"
          ],
          "name": "stdout"
        }
      ]
    },
    {
      "cell_type": "code",
      "metadata": {
        "id": "e6ajbTcanoWA",
        "colab_type": "code",
        "colab": {
          "base_uri": "https://localhost:8080/",
          "height": 185
        },
        "outputId": "32121f50-d22a-4d76-f6f2-03080678888f"
      },
      "source": [
        "arr1=arr1.transpose((1,2,0))\n",
        "print(arr1)\n",
        "print(arr1.shape)"
      ],
      "execution_count": null,
      "outputs": [
        {
          "output_type": "stream",
          "text": [
            "[[[ 0  8]\n",
            "  [ 1  9]\n",
            "  [ 2 10]\n",
            "  [ 3 11]]\n",
            "\n",
            " [[ 4 12]\n",
            "  [ 5 13]\n",
            "  [ 6 14]\n",
            "  [ 7 15]]]\n",
            "(2, 4, 2)\n"
          ],
          "name": "stdout"
        }
      ]
    },
    {
      "cell_type": "markdown",
      "metadata": {
        "id": "V_HgWA7NnoWC",
        "colab_type": "text"
      },
      "source": [
        "### swap axes"
      ]
    },
    {
      "cell_type": "code",
      "metadata": {
        "id": "uabjuO0VnoWC",
        "colab_type": "code",
        "colab": {
          "base_uri": "https://localhost:8080/",
          "height": 252
        },
        "outputId": "fbaceae6-3d34-4b55-c8a4-f4422f4b111c"
      },
      "source": [
        "arr1 = np.arange(16).reshape((2,2,4))\n",
        "print(arr1)\n",
        "print(arr1.swapaxes(1,2))"
      ],
      "execution_count": null,
      "outputs": [
        {
          "output_type": "stream",
          "text": [
            "[[[ 0  1  2  3]\n",
            "  [ 4  5  6  7]]\n",
            "\n",
            " [[ 8  9 10 11]\n",
            "  [12 13 14 15]]]\n",
            "[[[ 0  4]\n",
            "  [ 1  5]\n",
            "  [ 2  6]\n",
            "  [ 3  7]]\n",
            "\n",
            " [[ 8 12]\n",
            "  [ 9 13]\n",
            "  [10 14]\n",
            "  [11 15]]]\n"
          ],
          "name": "stdout"
        }
      ]
    },
    {
      "cell_type": "markdown",
      "metadata": {
        "id": "vxP8S5PdnoWF",
        "colab_type": "text"
      },
      "source": [
        "### change the shape of an array"
      ]
    },
    {
      "cell_type": "code",
      "metadata": {
        "id": "mx7rWQU1noWF",
        "colab_type": "code",
        "colab": {
          "base_uri": "https://localhost:8080/",
          "height": 50
        },
        "outputId": "c32cdee7-c266-41a0-eabd-bfea2bc6ef19"
      },
      "source": [
        "# change the shape of an array and return a copy\n",
        "arr.reshape((2,5))"
      ],
      "execution_count": null,
      "outputs": [
        {
          "output_type": "execute_result",
          "data": {
            "text/plain": [
              "array([[20, 21, 22, 23, 24],\n",
              "       [25, 26, 27, 28, 29]])"
            ]
          },
          "metadata": {
            "tags": []
          },
          "execution_count": 8
        }
      ]
    },
    {
      "cell_type": "code",
      "metadata": {
        "id": "SasejCWqnoWH",
        "colab_type": "code",
        "colab": {}
      },
      "source": [
        "# change the shape of an array in place\n",
        "arr.resize((5,2))"
      ],
      "execution_count": null,
      "outputs": []
    },
    {
      "cell_type": "code",
      "metadata": {
        "id": "iEQcJ3LCq0un",
        "colab_type": "code",
        "colab": {
          "base_uri": "https://localhost:8080/",
          "height": 101
        },
        "outputId": "f583bbc9-0db8-4c21-854d-7dbce48a36d3"
      },
      "source": [
        "arr"
      ],
      "execution_count": null,
      "outputs": [
        {
          "output_type": "execute_result",
          "data": {
            "text/plain": [
              "array([[20, 21],\n",
              "       [22, 23],\n",
              "       [24, 25],\n",
              "       [26, 27],\n",
              "       [28, 29]])"
            ]
          },
          "metadata": {
            "tags": []
          },
          "execution_count": 10
        }
      ]
    },
    {
      "cell_type": "markdown",
      "metadata": {
        "id": "P1mK8FB7noWJ",
        "colab_type": "text"
      },
      "source": [
        "### flatten an array"
      ]
    },
    {
      "cell_type": "code",
      "metadata": {
        "id": "0XICq0D7noWJ",
        "colab_type": "code",
        "colab": {
          "base_uri": "https://localhost:8080/",
          "height": 34
        },
        "outputId": "e8d99eea-d205-46df-bd77-7a384d4a12c6"
      },
      "source": [
        "# return a copy\n",
        "arr.flatten()    "
      ],
      "execution_count": null,
      "outputs": [
        {
          "output_type": "execute_result",
          "data": {
            "text/plain": [
              "array([20, 21, 22, 23, 24, 25, 26, 27, 28, 29])"
            ]
          },
          "metadata": {
            "tags": []
          },
          "execution_count": 11
        }
      ]
    },
    {
      "cell_type": "code",
      "metadata": {
        "id": "SukyF2r-noWL",
        "colab_type": "code",
        "colab": {
          "base_uri": "https://localhost:8080/",
          "height": 34
        },
        "outputId": "0a5da033-a04f-4395-be4b-262208ade31d"
      },
      "source": [
        "# return a view\n",
        "# change any element in the view will change the initial array\n",
        "arr.ravel()      "
      ],
      "execution_count": null,
      "outputs": [
        {
          "output_type": "execute_result",
          "data": {
            "text/plain": [
              "array([20, 21, 22, 23, 24, 25, 26, 27, 28, 29])"
            ]
          },
          "metadata": {
            "tags": []
          },
          "execution_count": 12
        }
      ]
    },
    {
      "cell_type": "code",
      "metadata": {
        "id": "TC49hFr0o4Dh",
        "colab_type": "code",
        "colab": {
          "base_uri": "https://localhost:8080/",
          "height": 101
        },
        "outputId": "33e84ace-2104-4104-935a-7903aa70e141"
      },
      "source": [
        "arr"
      ],
      "execution_count": null,
      "outputs": [
        {
          "output_type": "execute_result",
          "data": {
            "text/plain": [
              "array([[20, 21],\n",
              "       [22, 23],\n",
              "       [24, 25],\n",
              "       [26, 27],\n",
              "       [28, 29]])"
            ]
          },
          "metadata": {
            "tags": []
          },
          "execution_count": 13
        }
      ]
    },
    {
      "cell_type": "markdown",
      "metadata": {
        "id": "MZcxN-FlnoWO",
        "colab_type": "text"
      },
      "source": [
        "### append elements to an array"
      ]
    },
    {
      "cell_type": "code",
      "metadata": {
        "id": "JTttD9VGnoWO",
        "colab_type": "code",
        "colab": {}
      },
      "source": [
        "arr = np.array([1,2,3])"
      ],
      "execution_count": null,
      "outputs": []
    },
    {
      "cell_type": "code",
      "metadata": {
        "id": "uQdBhOHTnoWR",
        "colab_type": "code",
        "colab": {
          "base_uri": "https://localhost:8080/",
          "height": 34
        },
        "outputId": "61f26a81-1a1d-449a-f203-16253a05c15f"
      },
      "source": [
        "# append a scalar and return a copy\n",
        "arr1 = np.append(arr, 4)    \n",
        "print(arr1)"
      ],
      "execution_count": null,
      "outputs": [
        {
          "output_type": "stream",
          "text": [
            "[1 2 3 4]\n"
          ],
          "name": "stdout"
        }
      ]
    },
    {
      "cell_type": "code",
      "metadata": {
        "id": "_cmLh2pDnoWS",
        "colab_type": "code",
        "colab": {
          "base_uri": "https://localhost:8080/",
          "height": 34
        },
        "outputId": "79d4de1d-7d03-4eb2-eb5d-940f3408b5c6"
      },
      "source": [
        "# append an array and return a copy\n",
        "arr2 = np.append(arr, [4,5,6])    \n",
        "print(arr2)"
      ],
      "execution_count": null,
      "outputs": [
        {
          "output_type": "stream",
          "text": [
            "[1 2 3 4 5 6]\n"
          ],
          "name": "stdout"
        }
      ]
    },
    {
      "cell_type": "markdown",
      "metadata": {
        "id": "xnMTPrwbnoWV",
        "colab_type": "text"
      },
      "source": [
        "### insert elements into an array"
      ]
    },
    {
      "cell_type": "code",
      "metadata": {
        "id": "-vZhHnn9noWV",
        "colab_type": "code",
        "colab": {
          "base_uri": "https://localhost:8080/",
          "height": 34
        },
        "outputId": "2f2d736d-ca15-496b-f869-b623a9d9b8f9"
      },
      "source": [
        "# np.insert(array, position, element)\n",
        "\n",
        "# insert a scalar at a certain position\n",
        "arr3 = np.insert(arr, 1, 100)    \n",
        "print(arr3)"
      ],
      "execution_count": null,
      "outputs": [
        {
          "output_type": "stream",
          "text": [
            "[  1 100   2   3]\n"
          ],
          "name": "stdout"
        }
      ]
    },
    {
      "cell_type": "code",
      "metadata": {
        "id": "QB5VnsznnoWX",
        "colab_type": "code",
        "colab": {
          "base_uri": "https://localhost:8080/",
          "height": 50
        },
        "outputId": "e7be5519-12c6-40f2-80fb-bc3a1ca42c4b"
      },
      "source": [
        "# insert multiple values at a certain position\n",
        "arr3 = np.insert(arr, 1, [1,2,3])    \n",
        "print(arr3)\n",
        "print(arr3[3])"
      ],
      "execution_count": null,
      "outputs": [
        {
          "output_type": "stream",
          "text": [
            "[1 1 2 3 2 3]\n",
            "3\n"
          ],
          "name": "stdout"
        }
      ]
    },
    {
      "cell_type": "markdown",
      "metadata": {
        "id": "Gm8s-3YsnoWa",
        "colab_type": "text"
      },
      "source": [
        "### delete elements from an array"
      ]
    },
    {
      "cell_type": "code",
      "metadata": {
        "id": "mpB9bH8UnoWa",
        "colab_type": "code",
        "colab": {
          "base_uri": "https://localhost:8080/",
          "height": 34
        },
        "outputId": "5380c039-dfc7-4828-8577-a899a30e284b"
      },
      "source": [
        "# remove the element at position 0\n",
        "arr4 = np.delete(arr, 0)    \n",
        "print(arr4)"
      ],
      "execution_count": null,
      "outputs": [
        {
          "output_type": "stream",
          "text": [
            "[2 3]\n"
          ],
          "name": "stdout"
        }
      ]
    },
    {
      "cell_type": "code",
      "metadata": {
        "id": "b9SlyaCOnoWc",
        "colab_type": "code",
        "colab": {
          "base_uri": "https://localhost:8080/",
          "height": 34
        },
        "outputId": "df1619b6-b199-4c84-8440-ea92087324fa"
      },
      "source": [
        "# remove the element at multiple positions\n",
        "arr4 = np.delete(arr, [0,2])    \n",
        "print(arr4)"
      ],
      "execution_count": null,
      "outputs": [
        {
          "output_type": "stream",
          "text": [
            "[2]\n"
          ],
          "name": "stdout"
        }
      ]
    },
    {
      "cell_type": "markdown",
      "metadata": {
        "id": "mpNmeJkhnoWe",
        "colab_type": "text"
      },
      "source": [
        "### copy an array"
      ]
    },
    {
      "cell_type": "code",
      "metadata": {
        "id": "g6JkYaQKnoWe",
        "colab_type": "code",
        "colab": {}
      },
      "source": [
        "arr = np.array([1,2,3])"
      ],
      "execution_count": null,
      "outputs": []
    },
    {
      "cell_type": "code",
      "metadata": {
        "id": "gsThTIxinoWg",
        "colab_type": "code",
        "colab": {}
      },
      "source": [
        "# the following methods are all deep copy\n",
        "arr1 = np.copy(arr)\n",
        "# or \n",
        "arr2 = arr.copy()\n",
        "# or \n",
        "arr3 = np.array(arr, copy=True)"
      ],
      "execution_count": null,
      "outputs": []
    },
    {
      "cell_type": "code",
      "metadata": {
        "id": "G68mNzEjnoWj",
        "colab_type": "code",
        "colab": {}
      },
      "source": [
        "arr=arr+10"
      ],
      "execution_count": null,
      "outputs": []
    },
    {
      "cell_type": "code",
      "metadata": {
        "id": "lv8C-QIWnoWl",
        "colab_type": "code",
        "colab": {
          "base_uri": "https://localhost:8080/",
          "height": 84
        },
        "outputId": "91fa71f9-e171-490d-a4db-3145093fc7df"
      },
      "source": [
        "print(arr)\n",
        "print(arr1)\n",
        "print(arr2)\n",
        "print(arr3)\n"
      ],
      "execution_count": null,
      "outputs": [
        {
          "output_type": "stream",
          "text": [
            "[11 12 13]\n",
            "[1 2 3]\n",
            "[1 2 3]\n",
            "[1 2 3]\n"
          ],
          "name": "stdout"
        }
      ]
    },
    {
      "cell_type": "code",
      "metadata": {
        "id": "llCryO_CnoWn",
        "colab_type": "code",
        "colab": {}
      },
      "source": [
        ""
      ],
      "execution_count": null,
      "outputs": []
    },
    {
      "cell_type": "code",
      "metadata": {
        "id": "Ml8zcRhvnoWp",
        "colab_type": "code",
        "colab": {}
      },
      "source": [
        ""
      ],
      "execution_count": null,
      "outputs": []
    }
  ]
}