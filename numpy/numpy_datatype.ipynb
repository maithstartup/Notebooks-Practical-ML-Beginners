{
  "nbformat": 4,
  "nbformat_minor": 0,
  "metadata": {
    "colab": {
      "name": "numpy_datatype.ipynb",
      "provenance": [],
      "authorship_tag": "ABX9TyPc+/ejlLNtJAITtrnyppgZ",
      "include_colab_link": true
    },
    "kernelspec": {
      "name": "python3",
      "display_name": "Python 3"
    }
  },
  "cells": [
    {
      "cell_type": "markdown",
      "metadata": {
        "id": "view-in-github",
        "colab_type": "text"
      },
      "source": [
        "<a href=\"https://colab.research.google.com/github/maithstartup/Notebooks-Practical-ML-Beginners/blob/master/numpy/numpy_datatype.ipynb\" target=\"_parent\"><img src=\"https://colab.research.google.com/assets/colab-badge.svg\" alt=\"Open In Colab\"/></a>"
      ]
    },
    {
      "cell_type": "markdown",
      "metadata": {
        "id": "YMm7-PCLKlUO",
        "colab_type": "text"
      },
      "source": [
        "Numpy **Data Types**"
      ]
    },
    {
      "cell_type": "code",
      "metadata": {
        "id": "A6kWjHrqKqyB",
        "colab_type": "code",
        "colab": {}
      },
      "source": [
        "import numpy as np\n",
        "import pandas as pd"
      ],
      "execution_count": 1,
      "outputs": []
    },
    {
      "cell_type": "code",
      "metadata": {
        "id": "6fiWWWA_LOku",
        "colab_type": "code",
        "colab": {}
      },
      "source": [
        "arr=np.array([[0,1,2],[4,5,6]])"
      ],
      "execution_count": 2,
      "outputs": []
    },
    {
      "cell_type": "code",
      "metadata": {
        "id": "1uGNr_QcMchK",
        "colab_type": "code",
        "colab": {
          "base_uri": "https://localhost:8080/",
          "height": 50
        },
        "outputId": "a1cf2a6e-a974-46c6-eb79-a537cf96f044"
      },
      "source": [
        "arr"
      ],
      "execution_count": 3,
      "outputs": [
        {
          "output_type": "execute_result",
          "data": {
            "text/plain": [
              "array([[0, 1, 2],\n",
              "       [4, 5, 6]])"
            ]
          },
          "metadata": {
            "tags": []
          },
          "execution_count": 3
        }
      ]
    },
    {
      "cell_type": "markdown",
      "metadata": {
        "id": "kLpSf0DFMd4R",
        "colab_type": "text"
      },
      "source": [
        "**Attributes of array**\n",
        "\n",
        "\n",
        "\n",
        "\n",
        "\n",
        "\n",
        "\n",
        "1.   ndim\n",
        "2.   shape\n",
        "\n",
        "1.   size\n",
        "2.   dtype\n",
        "\n",
        "1.   itemsize\n",
        "2.   data\n",
        "\n",
        "\n",
        "\n",
        "\n",
        "\n",
        "\n",
        "\n",
        "\n",
        "\n",
        "\n",
        "\n",
        "\n"
      ]
    },
    {
      "cell_type": "code",
      "metadata": {
        "id": "LPccTtHxMQYc",
        "colab_type": "code",
        "colab": {
          "base_uri": "https://localhost:8080/",
          "height": 34
        },
        "outputId": "331d17ed-2115-4c97-adb2-63baa717f968"
      },
      "source": [
        "arr.ndim"
      ],
      "execution_count": 4,
      "outputs": [
        {
          "output_type": "execute_result",
          "data": {
            "text/plain": [
              "2"
            ]
          },
          "metadata": {
            "tags": []
          },
          "execution_count": 4
        }
      ]
    },
    {
      "cell_type": "code",
      "metadata": {
        "id": "6vrjcy_fMovO",
        "colab_type": "code",
        "colab": {
          "base_uri": "https://localhost:8080/",
          "height": 34
        },
        "outputId": "2583ead7-9bb6-4e0b-8c8a-49408a5981f5"
      },
      "source": [
        "arr.shape"
      ],
      "execution_count": 5,
      "outputs": [
        {
          "output_type": "execute_result",
          "data": {
            "text/plain": [
              "(2, 3)"
            ]
          },
          "metadata": {
            "tags": []
          },
          "execution_count": 5
        }
      ]
    },
    {
      "cell_type": "code",
      "metadata": {
        "id": "wvAPJerlMs7E",
        "colab_type": "code",
        "colab": {
          "base_uri": "https://localhost:8080/",
          "height": 34
        },
        "outputId": "921524c6-18ed-4526-bc7b-a8f4dd8395f3"
      },
      "source": [
        "arr.size"
      ],
      "execution_count": 6,
      "outputs": [
        {
          "output_type": "execute_result",
          "data": {
            "text/plain": [
              "6"
            ]
          },
          "metadata": {
            "tags": []
          },
          "execution_count": 6
        }
      ]
    },
    {
      "cell_type": "code",
      "metadata": {
        "id": "J4AjYS5RMv3c",
        "colab_type": "code",
        "colab": {
          "base_uri": "https://localhost:8080/",
          "height": 34
        },
        "outputId": "24e3ab37-3ec0-4c55-ddcd-acf994826638"
      },
      "source": [
        "arr.dtype"
      ],
      "execution_count": 7,
      "outputs": [
        {
          "output_type": "execute_result",
          "data": {
            "text/plain": [
              "dtype('int64')"
            ]
          },
          "metadata": {
            "tags": []
          },
          "execution_count": 7
        }
      ]
    },
    {
      "cell_type": "code",
      "metadata": {
        "id": "l7B9ljUrMs9g",
        "colab_type": "code",
        "colab": {
          "base_uri": "https://localhost:8080/",
          "height": 34
        },
        "outputId": "56b28b04-cdcb-4072-d536-e056293c7d40"
      },
      "source": [
        "arr.itemsize"
      ],
      "execution_count": 8,
      "outputs": [
        {
          "output_type": "execute_result",
          "data": {
            "text/plain": [
              "8"
            ]
          },
          "metadata": {
            "tags": []
          },
          "execution_count": 8
        }
      ]
    },
    {
      "cell_type": "code",
      "metadata": {
        "id": "BN7K10Z4MtAZ",
        "colab_type": "code",
        "colab": {
          "base_uri": "https://localhost:8080/",
          "height": 34
        },
        "outputId": "31af0967-d56f-4a33-dc9f-64ec93a7f2cd"
      },
      "source": [
        "arr.data"
      ],
      "execution_count": 9,
      "outputs": [
        {
          "output_type": "execute_result",
          "data": {
            "text/plain": [
              "<memory at 0x7f17b244dc18>"
            ]
          },
          "metadata": {
            "tags": []
          },
          "execution_count": 9
        }
      ]
    },
    {
      "cell_type": "markdown",
      "metadata": {
        "id": "MAmbvaueQCIz",
        "colab_type": "text"
      },
      "source": [
        "#### Datatypes"
      ]
    },
    {
      "cell_type": "code",
      "metadata": {
        "id": "LqMaaRZ49enF",
        "colab_type": "code",
        "colab": {}
      },
      "source": [
        "datatypes = pd.DataFrame(\n",
        "    {\n",
        "        'Type': [\n",
        "            'int8', \n",
        "            'uint8', \n",
        "            'int16', \n",
        "            'uint16', \n",
        "            'int or int32', \n",
        "            'uint32', \n",
        "            'int64', \n",
        "            'uint64', \n",
        "            'float16', \n",
        "            'float32', \n",
        "            'float or float64',\n",
        "            'float128', \n",
        "            'complex64', \n",
        "            'complex or complex128', \n",
        "            'bool', \n",
        "            'object', \n",
        "            'string_',\n",
        "            'unicode_',\n",
        "        ],\n",
        "        \n",
        "        'Type Code': [\n",
        "            'i1', \n",
        "            'u1', \n",
        "            'i2', \n",
        "            'u2', \n",
        "            'i4 or i', \n",
        "            'u4', \n",
        "            'i8', \n",
        "            'u8', \n",
        "            'f2', \n",
        "            'f4 or f', \n",
        "            'f8 or d', \n",
        "            'f16 or g', \n",
        "            'c8', \n",
        "            'c16', \n",
        "            None, \n",
        "            'O', \n",
        "            'S', \n",
        "            'U',\n",
        "        ]\n",
        "    }\n",
        ")"
      ],
      "execution_count": 10,
      "outputs": []
    },
    {
      "cell_type": "code",
      "metadata": {
        "id": "eUHBcnGxMtDx",
        "colab_type": "code",
        "colab": {
          "base_uri": "https://localhost:8080/",
          "height": 0
        },
        "outputId": "f72d1240-a6cc-4ea2-8f42-46862c408993"
      },
      "source": [
        "datatypes"
      ],
      "execution_count": 11,
      "outputs": [
        {
          "output_type": "execute_result",
          "data": {
            "text/html": [
              "<div>\n",
              "<style scoped>\n",
              "    .dataframe tbody tr th:only-of-type {\n",
              "        vertical-align: middle;\n",
              "    }\n",
              "\n",
              "    .dataframe tbody tr th {\n",
              "        vertical-align: top;\n",
              "    }\n",
              "\n",
              "    .dataframe thead th {\n",
              "        text-align: right;\n",
              "    }\n",
              "</style>\n",
              "<table border=\"1\" class=\"dataframe\">\n",
              "  <thead>\n",
              "    <tr style=\"text-align: right;\">\n",
              "      <th></th>\n",
              "      <th>Type</th>\n",
              "      <th>Type Code</th>\n",
              "    </tr>\n",
              "  </thead>\n",
              "  <tbody>\n",
              "    <tr>\n",
              "      <th>0</th>\n",
              "      <td>int8</td>\n",
              "      <td>i1</td>\n",
              "    </tr>\n",
              "    <tr>\n",
              "      <th>1</th>\n",
              "      <td>uint8</td>\n",
              "      <td>u1</td>\n",
              "    </tr>\n",
              "    <tr>\n",
              "      <th>2</th>\n",
              "      <td>int16</td>\n",
              "      <td>i2</td>\n",
              "    </tr>\n",
              "    <tr>\n",
              "      <th>3</th>\n",
              "      <td>uint16</td>\n",
              "      <td>u2</td>\n",
              "    </tr>\n",
              "    <tr>\n",
              "      <th>4</th>\n",
              "      <td>int or int32</td>\n",
              "      <td>i4 or i</td>\n",
              "    </tr>\n",
              "    <tr>\n",
              "      <th>5</th>\n",
              "      <td>uint32</td>\n",
              "      <td>u4</td>\n",
              "    </tr>\n",
              "    <tr>\n",
              "      <th>6</th>\n",
              "      <td>int64</td>\n",
              "      <td>i8</td>\n",
              "    </tr>\n",
              "    <tr>\n",
              "      <th>7</th>\n",
              "      <td>uint64</td>\n",
              "      <td>u8</td>\n",
              "    </tr>\n",
              "    <tr>\n",
              "      <th>8</th>\n",
              "      <td>float16</td>\n",
              "      <td>f2</td>\n",
              "    </tr>\n",
              "    <tr>\n",
              "      <th>9</th>\n",
              "      <td>float32</td>\n",
              "      <td>f4 or f</td>\n",
              "    </tr>\n",
              "    <tr>\n",
              "      <th>10</th>\n",
              "      <td>float or float64</td>\n",
              "      <td>f8 or d</td>\n",
              "    </tr>\n",
              "    <tr>\n",
              "      <th>11</th>\n",
              "      <td>float128</td>\n",
              "      <td>f16 or g</td>\n",
              "    </tr>\n",
              "    <tr>\n",
              "      <th>12</th>\n",
              "      <td>complex64</td>\n",
              "      <td>c8</td>\n",
              "    </tr>\n",
              "    <tr>\n",
              "      <th>13</th>\n",
              "      <td>complex or complex128</td>\n",
              "      <td>c16</td>\n",
              "    </tr>\n",
              "    <tr>\n",
              "      <th>14</th>\n",
              "      <td>bool</td>\n",
              "      <td>None</td>\n",
              "    </tr>\n",
              "    <tr>\n",
              "      <th>15</th>\n",
              "      <td>object</td>\n",
              "      <td>O</td>\n",
              "    </tr>\n",
              "    <tr>\n",
              "      <th>16</th>\n",
              "      <td>string_</td>\n",
              "      <td>S</td>\n",
              "    </tr>\n",
              "    <tr>\n",
              "      <th>17</th>\n",
              "      <td>unicode_</td>\n",
              "      <td>U</td>\n",
              "    </tr>\n",
              "  </tbody>\n",
              "</table>\n",
              "</div>"
            ],
            "text/plain": [
              "                     Type Type Code\n",
              "0                    int8        i1\n",
              "1                   uint8        u1\n",
              "2                   int16        i2\n",
              "3                  uint16        u2\n",
              "4            int or int32   i4 or i\n",
              "5                  uint32        u4\n",
              "6                   int64        i8\n",
              "7                  uint64        u8\n",
              "8                 float16        f2\n",
              "9                 float32   f4 or f\n",
              "10       float or float64   f8 or d\n",
              "11               float128  f16 or g\n",
              "12              complex64        c8\n",
              "13  complex or complex128       c16\n",
              "14                   bool      None\n",
              "15                 object         O\n",
              "16                string_         S\n",
              "17               unicode_         U"
            ]
          },
          "metadata": {
            "tags": []
          },
          "execution_count": 11
        }
      ]
    },
    {
      "cell_type": "markdown",
      "metadata": {
        "id": "3LaI4_VmN_X1",
        "colab_type": "text"
      },
      "source": [
        "### Playing with Datatypes"
      ]
    },
    {
      "cell_type": "code",
      "metadata": {
        "id": "BEyLJatFN2O1",
        "colab_type": "code",
        "colab": {}
      },
      "source": [
        "arr_1=np.array([0,1,2],dtype=np.float32)"
      ],
      "execution_count": 12,
      "outputs": []
    },
    {
      "cell_type": "code",
      "metadata": {
        "id": "k9xBCvfIN2Sc",
        "colab_type": "code",
        "colab": {
          "base_uri": "https://localhost:8080/",
          "height": 34
        },
        "outputId": "c1a79964-0c0c-4616-f52b-19a8d678b777"
      },
      "source": [
        "arr_1.dtype"
      ],
      "execution_count": 13,
      "outputs": [
        {
          "output_type": "execute_result",
          "data": {
            "text/plain": [
              "dtype('float32')"
            ]
          },
          "metadata": {
            "tags": []
          },
          "execution_count": 13
        }
      ]
    },
    {
      "cell_type": "code",
      "metadata": {
        "id": "A3VQtPghA5bu",
        "colab_type": "code",
        "colab": {
          "base_uri": "https://localhost:8080/",
          "height": 34
        },
        "outputId": "5f9b3b40-c8ba-4921-d1d9-90c6eff3a81c"
      },
      "source": [
        "arr_1.itemsize"
      ],
      "execution_count": 14,
      "outputs": [
        {
          "output_type": "execute_result",
          "data": {
            "text/plain": [
              "4"
            ]
          },
          "metadata": {
            "tags": []
          },
          "execution_count": 14
        }
      ]
    },
    {
      "cell_type": "code",
      "metadata": {
        "id": "n_74I3oOOXwH",
        "colab_type": "code",
        "colab": {}
      },
      "source": [
        "arr_2=np.array([0,1,0,1,1],dtype=np.bool_)"
      ],
      "execution_count": 15,
      "outputs": []
    },
    {
      "cell_type": "code",
      "metadata": {
        "id": "781yVB02Oidu",
        "colab_type": "code",
        "colab": {
          "base_uri": "https://localhost:8080/",
          "height": 50
        },
        "outputId": "19f83ff0-8922-4dc8-969c-f6ef85caf4dc"
      },
      "source": [
        "print(arr_2)\n",
        "print(arr_2.dtype)"
      ],
      "execution_count": 16,
      "outputs": [
        {
          "output_type": "stream",
          "text": [
            "[False  True False  True  True]\n",
            "bool\n"
          ],
          "name": "stdout"
        }
      ]
    },
    {
      "cell_type": "code",
      "metadata": {
        "id": "J_Ti40jKPwDi",
        "colab_type": "code",
        "colab": {
          "base_uri": "https://localhost:8080/",
          "height": 34
        },
        "outputId": "969c6050-483e-4aa3-d092-fe7eef6baf01"
      },
      "source": [
        "arr_3 = np.array([3+2j, 3-7j], dtype=\"c8\")\n",
        "arr_3.dtype"
      ],
      "execution_count": 17,
      "outputs": [
        {
          "output_type": "execute_result",
          "data": {
            "text/plain": [
              "dtype('complex64')"
            ]
          },
          "metadata": {
            "tags": []
          },
          "execution_count": 17
        }
      ]
    },
    {
      "cell_type": "markdown",
      "metadata": {
        "id": "fIHFzH_nFbrJ",
        "colab_type": "text"
      },
      "source": [
        "**Fixed Length words**"
      ]
    },
    {
      "cell_type": "code",
      "metadata": {
        "id": "mYJaCnQKQNSA",
        "colab_type": "code",
        "colab": {
          "base_uri": "https://localhost:8080/",
          "height": 50
        },
        "outputId": "53a4084f-312d-477a-a23b-8de2855da686"
      },
      "source": [
        "arr_4=np.array([\"hey\",\"join\",\"the\",\"\",\"ml\",\"course\"])\n",
        "print(arr_4.dtype)\n",
        "print(arr_4)"
      ],
      "execution_count": 18,
      "outputs": [
        {
          "output_type": "stream",
          "text": [
            "<U6\n",
            "['hey' 'join' 'the' '' 'ml' 'course']\n"
          ],
          "name": "stdout"
        }
      ]
    },
    {
      "cell_type": "code",
      "metadata": {
        "id": "Z0MvAphtQUSh",
        "colab_type": "code",
        "colab": {}
      },
      "source": [
        "arr_4[3]=\"practical\""
      ],
      "execution_count": 19,
      "outputs": []
    },
    {
      "cell_type": "code",
      "metadata": {
        "id": "lUwr0XACHnHY",
        "colab_type": "code",
        "colab": {
          "base_uri": "https://localhost:8080/",
          "height": 34
        },
        "outputId": "8743fa00-766d-4d83-b583-ba98b2b8da57"
      },
      "source": [
        "arr_4"
      ],
      "execution_count": 20,
      "outputs": [
        {
          "output_type": "execute_result",
          "data": {
            "text/plain": [
              "array(['hey', 'join', 'the', 'practi', 'ml', 'course'], dtype='<U6')"
            ]
          },
          "metadata": {
            "tags": []
          },
          "execution_count": 20
        }
      ]
    },
    {
      "cell_type": "code",
      "metadata": {
        "id": "Qtrxn4ThFKG2",
        "colab_type": "code",
        "colab": {
          "base_uri": "https://localhost:8080/",
          "height": 50
        },
        "outputId": "6e301458-2245-408b-ddf0-252cde3fbe94"
      },
      "source": [
        "arr_5=np.array([\"hey\",\"join\",\"the\",\"\",\"ml\",\"course\"],np.object)\n",
        "print(arr_5.dtype)\n",
        "arr_5[3]=\"practical\"\n",
        "print(arr_5)\n"
      ],
      "execution_count": 21,
      "outputs": [
        {
          "output_type": "stream",
          "text": [
            "object\n",
            "['hey' 'join' 'the' 'practical' 'ml' 'course']\n"
          ],
          "name": "stdout"
        }
      ]
    },
    {
      "cell_type": "code",
      "metadata": {
        "id": "QF6zS810-j0s",
        "colab_type": "code",
        "colab": {
          "base_uri": "https://localhost:8080/",
          "height": 34
        },
        "outputId": "506adaee-34a5-43aa-ccf1-3514d5bddcea"
      },
      "source": [
        "arr_4"
      ],
      "execution_count": 22,
      "outputs": [
        {
          "output_type": "execute_result",
          "data": {
            "text/plain": [
              "array(['hey', 'join', 'the', 'practi', 'ml', 'course'], dtype='<U6')"
            ]
          },
          "metadata": {
            "tags": []
          },
          "execution_count": 22
        }
      ]
    },
    {
      "cell_type": "markdown",
      "metadata": {
        "id": "REhnIddGRNOi",
        "colab_type": "text"
      },
      "source": [
        "Conversion\n",
        "\n",
        "**astype**"
      ]
    },
    {
      "cell_type": "code",
      "metadata": {
        "id": "as_3SI4hRMPZ",
        "colab_type": "code",
        "colab": {
          "base_uri": "https://localhost:8080/",
          "height": 67
        },
        "outputId": "0bdfafaf-c82f-4d28-8309-c8ce4e60085d"
      },
      "source": [
        "arr_5 = np.array([1,2,3], dtype='int16')\n",
        "print('Original Data Type: ' + str(arr_5.dtype))\n",
        "\n",
        "arr_5 = arr_5.astype(np.float32)\n",
        "print('Data Type After Conversion: ' + str(arr_5.dtype))\n",
        "print(arr_5)"
      ],
      "execution_count": 23,
      "outputs": [
        {
          "output_type": "stream",
          "text": [
            "Original Data Type: int16\n",
            "Data Type After Conversion: float32\n",
            "[1. 2. 3.]\n"
          ],
          "name": "stdout"
        }
      ]
    },
    {
      "cell_type": "code",
      "metadata": {
        "id": "deknTSXERcJO",
        "colab_type": "code",
        "colab": {
          "base_uri": "https://localhost:8080/",
          "height": 67
        },
        "outputId": "cef5352c-8e6d-4342-dd0e-d70f9e9bc62d"
      },
      "source": [
        "arr_6 = np.array([1,2,3], dtype='int16')\n",
        "print('Original Data Type: ' + str(arr_6.dtype))\n",
        "\n",
        "arr_6 = arr_6.astype(np.bool_)\n",
        "print('Data Type After Conversion: ' + str(arr_6.dtype))\n",
        "print(arr_6)"
      ],
      "execution_count": 24,
      "outputs": [
        {
          "output_type": "stream",
          "text": [
            "Original Data Type: int16\n",
            "Data Type After Conversion: bool\n",
            "[ True  True  True]\n"
          ],
          "name": "stdout"
        }
      ]
    },
    {
      "cell_type": "code",
      "metadata": {
        "id": "ngwq8vHUR3ZR",
        "colab_type": "code",
        "colab": {
          "base_uri": "https://localhost:8080/",
          "height": 67
        },
        "outputId": "50307025-347f-4e8e-acd6-67ac90b97b5e"
      },
      "source": [
        "arr_7 = np.array([126,129,257], dtype='int16')\n",
        "print('Original Data Type: ' + str(arr_7.dtype))\n",
        "\n",
        "# Range of int8 [-128, 127], 258 overflows after conversion\n",
        "\n",
        "arr_7 = arr_7.astype(np.int8)\n",
        "print('Data Type After Conversion: ' + str(arr_7.dtype))\n",
        "print(arr_7)"
      ],
      "execution_count": 25,
      "outputs": [
        {
          "output_type": "stream",
          "text": [
            "Original Data Type: int16\n",
            "Data Type After Conversion: int8\n",
            "[ 126 -127    1]\n"
          ],
          "name": "stdout"
        }
      ]
    },
    {
      "cell_type": "code",
      "metadata": {
        "id": "a--t4Uix-I_J",
        "colab_type": "code",
        "colab": {
          "base_uri": "https://localhost:8080/",
          "height": 655
        },
        "outputId": "2533e72b-4878-4e88-a524-62005c6a397a"
      },
      "source": [
        "for dtype in [np.int8, np.int32, np.int64]:\n",
        "   print(np.iinfo(dtype))\n",
        "for dtype in [np.float32, np.float64]:\n",
        "   print(np.finfo(dtype))"
      ],
      "execution_count": 26,
      "outputs": [
        {
          "output_type": "stream",
          "text": [
            "Machine parameters for int8\n",
            "---------------------------------------------------------------\n",
            "min = -128\n",
            "max = 127\n",
            "---------------------------------------------------------------\n",
            "\n",
            "Machine parameters for int32\n",
            "---------------------------------------------------------------\n",
            "min = -2147483648\n",
            "max = 2147483647\n",
            "---------------------------------------------------------------\n",
            "\n",
            "Machine parameters for int64\n",
            "---------------------------------------------------------------\n",
            "min = -9223372036854775808\n",
            "max = 9223372036854775807\n",
            "---------------------------------------------------------------\n",
            "\n",
            "Machine parameters for float32\n",
            "---------------------------------------------------------------\n",
            "precision =   6   resolution = 1.0000000e-06\n",
            "machep =    -23   eps =        1.1920929e-07\n",
            "negep =     -24   epsneg =     5.9604645e-08\n",
            "minexp =   -126   tiny =       1.1754944e-38\n",
            "maxexp =    128   max =        3.4028235e+38\n",
            "nexp =        8   min =        -max\n",
            "---------------------------------------------------------------\n",
            "\n",
            "Machine parameters for float64\n",
            "---------------------------------------------------------------\n",
            "precision =  15   resolution = 1.0000000000000001e-15\n",
            "machep =    -52   eps =        2.2204460492503131e-16\n",
            "negep =     -53   epsneg =     1.1102230246251565e-16\n",
            "minexp =  -1022   tiny =       2.2250738585072014e-308\n",
            "maxexp =   1024   max =        1.7976931348623157e+308\n",
            "nexp =       11   min =        -max\n",
            "---------------------------------------------------------------\n",
            "\n"
          ],
          "name": "stdout"
        }
      ]
    },
    {
      "cell_type": "markdown",
      "metadata": {
        "id": "FfrGYa2aQ_4M",
        "colab_type": "text"
      },
      "source": [
        "[Data Types](https://numpy.org/doc/stable/reference/arrays.dtypes.html#arrays-dtypes)\n",
        "\n",
        "[Byteorder](https://numpy.org/doc/stable/reference/generated/numpy.dtype.byteorder.html)"
      ]
    }
  ]
}