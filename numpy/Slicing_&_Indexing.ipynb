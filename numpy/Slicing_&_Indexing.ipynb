{
  "nbformat": 4,
  "nbformat_minor": 0,
  "metadata": {
    "kernelspec": {
      "display_name": "Python 3",
      "language": "python",
      "name": "python3"
    },
    "language_info": {
      "codemirror_mode": {
        "name": "ipython",
        "version": 3
      },
      "file_extension": ".py",
      "mimetype": "text/x-python",
      "name": "python",
      "nbconvert_exporter": "python",
      "pygments_lexer": "ipython3",
      "version": "3.7.4"
    },
    "colab": {
      "name": "Slicing & Indexing.ipynb",
      "provenance": [],
      "include_colab_link": true
    }
  },
  "cells": [
    {
      "cell_type": "markdown",
      "metadata": {
        "id": "view-in-github",
        "colab_type": "text"
      },
      "source": [
        "<a href=\"https://colab.research.google.com/github/maithstartup/Notebooks-Practical-ML-Beginners/blob/master/numpy/Slicing_%26_Indexing.ipynb\" target=\"_parent\"><img src=\"https://colab.research.google.com/assets/colab-badge.svg\" alt=\"Open In Colab\"/></a>"
      ]
    },
    {
      "cell_type": "markdown",
      "metadata": {
        "id": "VbkL2P0jA8l0",
        "colab_type": "text"
      },
      "source": [
        "## Slicing and indexing"
      ]
    },
    {
      "cell_type": "code",
      "metadata": {
        "id": "pDycd_PLAaCm",
        "colab_type": "code",
        "colab": {}
      },
      "source": [
        "import numpy as np"
      ],
      "execution_count": 1,
      "outputs": []
    },
    {
      "cell_type": "code",
      "metadata": {
        "id": "rEqosh7sAaCp",
        "colab_type": "code",
        "colab": {}
      },
      "source": [
        "arr = np.array(range(100)).reshape((10,10))"
      ],
      "execution_count": 2,
      "outputs": []
    },
    {
      "cell_type": "code",
      "metadata": {
        "id": "_Cg4IcKGAaCr",
        "colab_type": "code",
        "colab": {
          "base_uri": "https://localhost:8080/",
          "height": 185
        },
        "outputId": "11e8b027-ff0d-470b-d04b-cf7caf697846"
      },
      "source": [
        "arr"
      ],
      "execution_count": 3,
      "outputs": [
        {
          "output_type": "execute_result",
          "data": {
            "text/plain": [
              "array([[ 0,  1,  2,  3,  4,  5,  6,  7,  8,  9],\n",
              "       [10, 11, 12, 13, 14, 15, 16, 17, 18, 19],\n",
              "       [20, 21, 22, 23, 24, 25, 26, 27, 28, 29],\n",
              "       [30, 31, 32, 33, 34, 35, 36, 37, 38, 39],\n",
              "       [40, 41, 42, 43, 44, 45, 46, 47, 48, 49],\n",
              "       [50, 51, 52, 53, 54, 55, 56, 57, 58, 59],\n",
              "       [60, 61, 62, 63, 64, 65, 66, 67, 68, 69],\n",
              "       [70, 71, 72, 73, 74, 75, 76, 77, 78, 79],\n",
              "       [80, 81, 82, 83, 84, 85, 86, 87, 88, 89],\n",
              "       [90, 91, 92, 93, 94, 95, 96, 97, 98, 99]])"
            ]
          },
          "metadata": {
            "tags": []
          },
          "execution_count": 3
        }
      ]
    },
    {
      "cell_type": "markdown",
      "metadata": {
        "id": "KBf4fn6VAaCu",
        "colab_type": "text"
      },
      "source": [
        "### select an element by row and column indices"
      ]
    },
    {
      "cell_type": "code",
      "metadata": {
        "id": "ijOWiwHRAaCu",
        "colab_type": "code",
        "colab": {
          "base_uri": "https://localhost:8080/",
          "height": 50
        },
        "outputId": "57fd90db-556c-4dff-b3a8-006fbcb675e7"
      },
      "source": [
        "print(arr[5][5])\n",
        "# or more concisely\n",
        "print(arr[5,5])"
      ],
      "execution_count": 4,
      "outputs": [
        {
          "output_type": "stream",
          "text": [
            "55\n",
            "55\n"
          ],
          "name": "stdout"
        }
      ]
    },
    {
      "cell_type": "code",
      "metadata": {
        "id": "rS-9_16LBxAI",
        "colab_type": "code",
        "colab": {
          "base_uri": "https://localhost:8080/",
          "height": 34
        },
        "outputId": "da1d1a01-e31e-4e1e-a814-5f2b070de9ac"
      },
      "source": [
        "print(arr[6,7])"
      ],
      "execution_count": 5,
      "outputs": [
        {
          "output_type": "stream",
          "text": [
            "67\n"
          ],
          "name": "stdout"
        }
      ]
    },
    {
      "cell_type": "markdown",
      "metadata": {
        "id": "sO3nr_B8AaCx",
        "colab_type": "text"
      },
      "source": [
        "### indexing with slicing"
      ]
    },
    {
      "cell_type": "code",
      "metadata": {
        "id": "qNEzpFjmAaCx",
        "colab_type": "code",
        "colab": {
          "base_uri": "https://localhost:8080/",
          "height": 50
        },
        "outputId": "cbf36a76-781a-4916-fea0-0e9213e88c9a"
      },
      "source": [
        "print(arr[1:3, 4:6])"
      ],
      "execution_count": 6,
      "outputs": [
        {
          "output_type": "stream",
          "text": [
            "[[14 15]\n",
            " [24 25]]\n"
          ],
          "name": "stdout"
        }
      ]
    },
    {
      "cell_type": "code",
      "metadata": {
        "id": "9AiOuUKaDJI7",
        "colab_type": "code",
        "colab": {}
      },
      "source": [
        "temp=arr[1:3]"
      ],
      "execution_count": 7,
      "outputs": []
    },
    {
      "cell_type": "code",
      "metadata": {
        "id": "BGaH7m3TDO4H",
        "colab_type": "code",
        "colab": {
          "base_uri": "https://localhost:8080/",
          "height": 50
        },
        "outputId": "1818dc3c-ddee-4238-a4a9-467e50951eaa"
      },
      "source": [
        "temp[:,4:6]"
      ],
      "execution_count": 8,
      "outputs": [
        {
          "output_type": "execute_result",
          "data": {
            "text/plain": [
              "array([[14, 15],\n",
              "       [24, 25]])"
            ]
          },
          "metadata": {
            "tags": []
          },
          "execution_count": 8
        }
      ]
    },
    {
      "cell_type": "code",
      "metadata": {
        "id": "A21GRaTJAaCz",
        "colab_type": "code",
        "colab": {
          "base_uri": "https://localhost:8080/",
          "height": 101
        },
        "outputId": "0a90f338-f6c7-44b2-a3a3-0032597aa343"
      },
      "source": [
        "# ellipsis slicing: auto-complete the dimensions\n",
        "arr1 = np.array(range(8)).reshape(2,2,2)\n",
        "\n",
        "arr1\n",
        " "
      ],
      "execution_count": 9,
      "outputs": [
        {
          "output_type": "execute_result",
          "data": {
            "text/plain": [
              "array([[[0, 1],\n",
              "        [2, 3]],\n",
              "\n",
              "       [[4, 5],\n",
              "        [6, 7]]])"
            ]
          },
          "metadata": {
            "tags": []
          },
          "execution_count": 9
        }
      ]
    },
    {
      "cell_type": "code",
      "metadata": {
        "id": "-mSOatkPAaC1",
        "colab_type": "code",
        "colab": {
          "base_uri": "https://localhost:8080/",
          "height": 50
        },
        "outputId": "a26781b6-c44e-4344-a302-d3e294d7b430"
      },
      "source": [
        "# equivalent to arr[0,:,:]\n",
        "arr1[0, ...]"
      ],
      "execution_count": 10,
      "outputs": [
        {
          "output_type": "execute_result",
          "data": {
            "text/plain": [
              "array([[0, 1],\n",
              "       [2, 3]])"
            ]
          },
          "metadata": {
            "tags": []
          },
          "execution_count": 10
        }
      ]
    },
    {
      "cell_type": "code",
      "metadata": {
        "id": "tAEXI53PEChx",
        "colab_type": "code",
        "colab": {
          "base_uri": "https://localhost:8080/",
          "height": 50
        },
        "outputId": "e6795cfa-9400-41eb-9db7-49dec90be893"
      },
      "source": [
        "arr1[0]"
      ],
      "execution_count": 11,
      "outputs": [
        {
          "output_type": "execute_result",
          "data": {
            "text/plain": [
              "array([[0, 1],\n",
              "       [2, 3]])"
            ]
          },
          "metadata": {
            "tags": []
          },
          "execution_count": 11
        }
      ]
    },
    {
      "cell_type": "code",
      "metadata": {
        "id": "uYBDAUiEEI1y",
        "colab_type": "code",
        "colab": {
          "base_uri": "https://localhost:8080/",
          "height": 50
        },
        "outputId": "8475c578-bc1a-462b-ffa3-5926bd891956"
      },
      "source": [
        "arr1[0,:,:]"
      ],
      "execution_count": 12,
      "outputs": [
        {
          "output_type": "execute_result",
          "data": {
            "text/plain": [
              "array([[0, 1],\n",
              "       [2, 3]])"
            ]
          },
          "metadata": {
            "tags": []
          },
          "execution_count": 12
        }
      ]
    },
    {
      "cell_type": "markdown",
      "metadata": {
        "id": "ZAE5ZnOiAaC4",
        "colab_type": "text"
      },
      "source": [
        "### assign a scalar to a slice by broadcasting"
      ]
    },
    {
      "cell_type": "code",
      "metadata": {
        "id": "YObVeZMkAaC5",
        "colab_type": "code",
        "colab": {
          "base_uri": "https://localhost:8080/",
          "height": 0
        },
        "outputId": "0588100b-e1ef-4bfb-ed7a-daa1d80ee21f"
      },
      "source": [
        "print(arr)\n",
        "arr[1:3,:] = 100    # or simply arr[1:3]\n",
        "arr[:,8:] = 0\n",
        "print(arr)"
      ],
      "execution_count": 13,
      "outputs": [
        {
          "output_type": "stream",
          "text": [
            "[[ 0  1  2  3  4  5  6  7  8  9]\n",
            " [10 11 12 13 14 15 16 17 18 19]\n",
            " [20 21 22 23 24 25 26 27 28 29]\n",
            " [30 31 32 33 34 35 36 37 38 39]\n",
            " [40 41 42 43 44 45 46 47 48 49]\n",
            " [50 51 52 53 54 55 56 57 58 59]\n",
            " [60 61 62 63 64 65 66 67 68 69]\n",
            " [70 71 72 73 74 75 76 77 78 79]\n",
            " [80 81 82 83 84 85 86 87 88 89]\n",
            " [90 91 92 93 94 95 96 97 98 99]]\n",
            "[[  0   1   2   3   4   5   6   7   0   0]\n",
            " [100 100 100 100 100 100 100 100   0   0]\n",
            " [100 100 100 100 100 100 100 100   0   0]\n",
            " [ 30  31  32  33  34  35  36  37   0   0]\n",
            " [ 40  41  42  43  44  45  46  47   0   0]\n",
            " [ 50  51  52  53  54  55  56  57   0   0]\n",
            " [ 60  61  62  63  64  65  66  67   0   0]\n",
            " [ 70  71  72  73  74  75  76  77   0   0]\n",
            " [ 80  81  82  83  84  85  86  87   0   0]\n",
            " [ 90  91  92  93  94  95  96  97   0   0]]\n"
          ],
          "name": "stdout"
        }
      ]
    },
    {
      "cell_type": "code",
      "metadata": {
        "id": "7_zT6b1VAaC7",
        "colab_type": "code",
        "colab": {
          "base_uri": "https://localhost:8080/",
          "height": 0
        },
        "outputId": "e8f75b77-3822-4e72-d3cf-2ca6e4e31e7f"
      },
      "source": [
        "arr[:,7]=97\n",
        "print(arr)"
      ],
      "execution_count": 14,
      "outputs": [
        {
          "output_type": "stream",
          "text": [
            "[[  0   1   2   3   4   5   6  97   0   0]\n",
            " [100 100 100 100 100 100 100  97   0   0]\n",
            " [100 100 100 100 100 100 100  97   0   0]\n",
            " [ 30  31  32  33  34  35  36  97   0   0]\n",
            " [ 40  41  42  43  44  45  46  97   0   0]\n",
            " [ 50  51  52  53  54  55  56  97   0   0]\n",
            " [ 60  61  62  63  64  65  66  97   0   0]\n",
            " [ 70  71  72  73  74  75  76  97   0   0]\n",
            " [ 80  81  82  83  84  85  86  97   0   0]\n",
            " [ 90  91  92  93  94  95  96  97   0   0]]\n"
          ],
          "name": "stdout"
        }
      ]
    },
    {
      "cell_type": "code",
      "metadata": {
        "id": "aoZKEsO-EiwG",
        "colab_type": "code",
        "colab": {}
      },
      "source": [
        "arr[6,:6]=120"
      ],
      "execution_count": 15,
      "outputs": []
    },
    {
      "cell_type": "code",
      "metadata": {
        "id": "N7Pmm3FFEwuU",
        "colab_type": "code",
        "colab": {
          "base_uri": "https://localhost:8080/",
          "height": 0
        },
        "outputId": "55938ba1-718e-4304-e64d-9711c461f9f9"
      },
      "source": [
        "arr"
      ],
      "execution_count": 16,
      "outputs": [
        {
          "output_type": "execute_result",
          "data": {
            "text/plain": [
              "array([[  0,   1,   2,   3,   4,   5,   6,  97,   0,   0],\n",
              "       [100, 100, 100, 100, 100, 100, 100,  97,   0,   0],\n",
              "       [100, 100, 100, 100, 100, 100, 100,  97,   0,   0],\n",
              "       [ 30,  31,  32,  33,  34,  35,  36,  97,   0,   0],\n",
              "       [ 40,  41,  42,  43,  44,  45,  46,  97,   0,   0],\n",
              "       [ 50,  51,  52,  53,  54,  55,  56,  97,   0,   0],\n",
              "       [120, 120, 120, 120, 120, 120,  66,  97,   0,   0],\n",
              "       [ 70,  71,  72,  73,  74,  75,  76,  97,   0,   0],\n",
              "       [ 80,  81,  82,  83,  84,  85,  86,  97,   0,   0],\n",
              "       [ 90,  91,  92,  93,  94,  95,  96,  97,   0,   0]])"
            ]
          },
          "metadata": {
            "tags": []
          },
          "execution_count": 16
        }
      ]
    },
    {
      "cell_type": "markdown",
      "metadata": {
        "id": "d98Gr8H7AaC9",
        "colab_type": "text"
      },
      "source": [
        "### boolean indexing"
      ]
    },
    {
      "cell_type": "code",
      "metadata": {
        "id": "4KZUI-l_AaC9",
        "colab_type": "code",
        "colab": {
          "base_uri": "https://localhost:8080/",
          "height": 0
        },
        "outputId": "518bbb7f-16a6-4d34-e865-5d3d9ac66571"
      },
      "source": [
        "arr1 = np.arange(25).reshape((5,5))\n",
        "bools = np.array([True, True, False, True, False])\n",
        "print(arr1)\n",
        "print(arr1[bools])"
      ],
      "execution_count": 17,
      "outputs": [
        {
          "output_type": "stream",
          "text": [
            "[[ 0  1  2  3  4]\n",
            " [ 5  6  7  8  9]\n",
            " [10 11 12 13 14]\n",
            " [15 16 17 18 19]\n",
            " [20 21 22 23 24]]\n",
            "[[ 0  1  2  3  4]\n",
            " [ 5  6  7  8  9]\n",
            " [15 16 17 18 19]]\n"
          ],
          "name": "stdout"
        }
      ]
    },
    {
      "cell_type": "code",
      "metadata": {
        "id": "NUj6KVCxAaC_",
        "colab_type": "code",
        "colab": {
          "base_uri": "https://localhost:8080/",
          "height": 0
        },
        "outputId": "5e9fbb7a-0b76-4055-8cbc-b145cf29f241"
      },
      "source": [
        "# negate the condition\n",
        "print(arr1[~bools])    "
      ],
      "execution_count": 18,
      "outputs": [
        {
          "output_type": "stream",
          "text": [
            "[[10 11 12 13 14]\n",
            " [20 21 22 23 24]]\n"
          ],
          "name": "stdout"
        }
      ]
    },
    {
      "cell_type": "code",
      "metadata": {
        "id": "oxyYXEozAaDB",
        "colab_type": "code",
        "colab": {
          "base_uri": "https://localhost:8080/",
          "height": 0
        },
        "outputId": "7e2aa6ee-d845-424f-f529-1da75e241192"
      },
      "source": [
        "arr2 = np.array([1,2,3,4,5])\n",
        "# multiple conditions'\n",
        "print((arr2<2) | (arr2>4))\n",
        "print(arr1[(arr2<2) | (arr2>4)])    "
      ],
      "execution_count": 19,
      "outputs": [
        {
          "output_type": "stream",
          "text": [
            "[ True False False False  True]\n",
            "[[ 0  1  2  3  4]\n",
            " [20 21 22 23 24]]\n"
          ],
          "name": "stdout"
        }
      ]
    },
    {
      "cell_type": "markdown",
      "metadata": {
        "id": "JEo9-y77AaDD",
        "colab_type": "text"
      },
      "source": [
        "### fancy indexing"
      ]
    },
    {
      "cell_type": "code",
      "metadata": {
        "id": "0oqDEyX-AaDD",
        "colab_type": "code",
        "colab": {}
      },
      "source": [
        "arr = np.arange(100).reshape(10,10)"
      ],
      "execution_count": 20,
      "outputs": []
    },
    {
      "cell_type": "code",
      "metadata": {
        "id": "wLvN-AxdAaDG",
        "colab_type": "code",
        "colab": {
          "base_uri": "https://localhost:8080/",
          "height": 0
        },
        "outputId": "2f5561c8-6be6-45d5-e8e4-bdecc5c419ed"
      },
      "source": [
        "# select arr[3,3], arr[1,2], arr[2,1]\n",
        "print(arr[[3,1,2], [3,2,1]])       "
      ],
      "execution_count": 21,
      "outputs": [
        {
          "output_type": "stream",
          "text": [
            "[33 12 21]\n"
          ],
          "name": "stdout"
        }
      ]
    },
    {
      "cell_type": "code",
      "metadata": {
        "id": "0Fuq1ju5AaDI",
        "colab_type": "code",
        "colab": {
          "base_uri": "https://localhost:8080/",
          "height": 0
        },
        "outputId": "3e0def61-1d93-4ba2-e53f-c0917c4928b6"
      },
      "source": [
        "arr"
      ],
      "execution_count": 22,
      "outputs": [
        {
          "output_type": "execute_result",
          "data": {
            "text/plain": [
              "array([[ 0,  1,  2,  3,  4,  5,  6,  7,  8,  9],\n",
              "       [10, 11, 12, 13, 14, 15, 16, 17, 18, 19],\n",
              "       [20, 21, 22, 23, 24, 25, 26, 27, 28, 29],\n",
              "       [30, 31, 32, 33, 34, 35, 36, 37, 38, 39],\n",
              "       [40, 41, 42, 43, 44, 45, 46, 47, 48, 49],\n",
              "       [50, 51, 52, 53, 54, 55, 56, 57, 58, 59],\n",
              "       [60, 61, 62, 63, 64, 65, 66, 67, 68, 69],\n",
              "       [70, 71, 72, 73, 74, 75, 76, 77, 78, 79],\n",
              "       [80, 81, 82, 83, 84, 85, 86, 87, 88, 89],\n",
              "       [90, 91, 92, 93, 94, 95, 96, 97, 98, 99]])"
            ]
          },
          "metadata": {
            "tags": []
          },
          "execution_count": 22
        }
      ]
    },
    {
      "cell_type": "code",
      "metadata": {
        "id": "ElG5ZHEBAaDK",
        "colab_type": "code",
        "colab": {
          "base_uri": "https://localhost:8080/",
          "height": 0
        },
        "outputId": "97bf1301-f91c-4d45-e0a8-96595ad28287"
      },
      "source": [
        "# select rows 3,1,2 and columns 6,4,8 \n",
        "print(arr[[3,1,2]][:, [6,4,8]])    "
      ],
      "execution_count": 23,
      "outputs": [
        {
          "output_type": "stream",
          "text": [
            "[[36 34 38]\n",
            " [16 14 18]\n",
            " [26 24 28]]\n"
          ],
          "name": "stdout"
        }
      ]
    },
    {
      "cell_type": "code",
      "metadata": {
        "id": "hFV2vFE7FlGv",
        "colab_type": "code",
        "colab": {
          "base_uri": "https://localhost:8080/",
          "height": 0
        },
        "outputId": "427651d8-a30f-456d-9c2a-8a9f596362f0"
      },
      "source": [
        "arr[[5,6,7]][:,[4,5,6]]"
      ],
      "execution_count": 24,
      "outputs": [
        {
          "output_type": "execute_result",
          "data": {
            "text/plain": [
              "array([[54, 55, 56],\n",
              "       [64, 65, 66],\n",
              "       [74, 75, 76]])"
            ]
          },
          "metadata": {
            "tags": []
          },
          "execution_count": 24
        }
      ]
    },
    {
      "cell_type": "markdown",
      "metadata": {
        "id": "SKrzzfj7AaDM",
        "colab_type": "text"
      },
      "source": [
        "### dimension inference"
      ]
    },
    {
      "cell_type": "code",
      "metadata": {
        "id": "-90fb32hAaDM",
        "colab_type": "code",
        "colab": {
          "base_uri": "https://localhost:8080/",
          "height": 0
        },
        "outputId": "2c6c79e1-d2cc-46c3-c2ab-b2a1b379c489"
      },
      "source": [
        "# dimension inference using any negative number (usually -1)\n",
        "arr = np.array(range(16)).reshape((4,-1))\n",
        "print(arr.shape)\n",
        "arr=arr.reshape(4,2,-1)\n",
        "print(arr.shape)"
      ],
      "execution_count": 25,
      "outputs": [
        {
          "output_type": "stream",
          "text": [
            "(4, 4)\n",
            "(4, 2, 2)\n"
          ],
          "name": "stdout"
        }
      ]
    },
    {
      "cell_type": "markdown",
      "metadata": {
        "id": "MBjzrJDNAaDO",
        "colab_type": "text"
      },
      "source": [
        "### find elements/indices by conditions"
      ]
    },
    {
      "cell_type": "code",
      "metadata": {
        "id": "C3IDr_u0AaDP",
        "colab_type": "code",
        "colab": {}
      },
      "source": [
        "arr = np.arange(16).reshape(4,4)"
      ],
      "execution_count": 26,
      "outputs": []
    },
    {
      "cell_type": "code",
      "metadata": {
        "id": "1cZbhy63AaDQ",
        "colab_type": "code",
        "colab": {
          "base_uri": "https://localhost:8080/",
          "height": 0
        },
        "outputId": "3f5b8442-f383-41ef-f733-1d340dbee41e"
      },
      "source": [
        "arr"
      ],
      "execution_count": 27,
      "outputs": [
        {
          "output_type": "execute_result",
          "data": {
            "text/plain": [
              "array([[ 0,  1,  2,  3],\n",
              "       [ 4,  5,  6,  7],\n",
              "       [ 8,  9, 10, 11],\n",
              "       [12, 13, 14, 15]])"
            ]
          },
          "metadata": {
            "tags": []
          },
          "execution_count": 27
        }
      ]
    },
    {
      "cell_type": "code",
      "metadata": {
        "id": "ZBDRBJ31AaDS",
        "colab_type": "code",
        "colab": {
          "base_uri": "https://localhost:8080/",
          "height": 0
        },
        "outputId": "1a514ade-2900-4bba-c1db-c65f4ec298cd"
      },
      "source": [
        "# find the elements greater than 5 and return a flattened array\n",
        "print(arr[arr>5])    # or arr[np.where(arr>5)]"
      ],
      "execution_count": 28,
      "outputs": [
        {
          "output_type": "stream",
          "text": [
            "[ 6  7  8  9 10 11 12 13 14 15]\n"
          ],
          "name": "stdout"
        }
      ]
    },
    {
      "cell_type": "code",
      "metadata": {
        "id": "Zgaq--IYAaDU",
        "colab_type": "code",
        "colab": {
          "base_uri": "https://localhost:8080/",
          "height": 0
        },
        "outputId": "69112dc0-fd7f-4a83-bdb8-71276a09ee06"
      },
      "source": [
        "# return values based on conditions \n",
        "# np.where(condition, true_return, false_return)\n",
        "print(np.where(arr>5, -1, 10))"
      ],
      "execution_count": 29,
      "outputs": [
        {
          "output_type": "stream",
          "text": [
            "[[10 10 10 10]\n",
            " [10 10 -1 -1]\n",
            " [-1 -1 -1 -1]\n",
            " [-1 -1 -1 -1]]\n"
          ],
          "name": "stdout"
        }
      ]
    },
    {
      "cell_type": "code",
      "metadata": {
        "id": "KhB76vMGAaDW",
        "colab_type": "code",
        "colab": {
          "base_uri": "https://localhost:8080/",
          "height": 0
        },
        "outputId": "faa58779-05a6-4f17-8af1-94c55798bf0e"
      },
      "source": [
        "# find the indices of the elements on conditions\n",
        "print(np.argwhere(arr>12))"
      ],
      "execution_count": 30,
      "outputs": [
        {
          "output_type": "stream",
          "text": [
            "[[3 1]\n",
            " [3 2]\n",
            " [3 3]]\n"
          ],
          "name": "stdout"
        }
      ]
    },
    {
      "cell_type": "code",
      "metadata": {
        "id": "oN5HT7iHGQKx",
        "colab_type": "code",
        "colab": {}
      },
      "source": [
        ""
      ],
      "execution_count": 30,
      "outputs": []
    }
  ]
}