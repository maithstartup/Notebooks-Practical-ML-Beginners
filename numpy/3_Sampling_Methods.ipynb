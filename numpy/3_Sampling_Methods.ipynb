{
  "nbformat": 4,
  "nbformat_minor": 0,
  "metadata": {
    "kernelspec": {
      "display_name": "Python 3",
      "language": "python",
      "name": "python3"
    },
    "language_info": {
      "codemirror_mode": {
        "name": "ipython",
        "version": 3
      },
      "file_extension": ".py",
      "mimetype": "text/x-python",
      "name": "python",
      "nbconvert_exporter": "python",
      "pygments_lexer": "ipython3",
      "version": "3.7.4"
    },
    "colab": {
      "name": "3. Sampling Methods.ipynb",
      "provenance": [],
      "include_colab_link": true
    }
  },
  "cells": [
    {
      "cell_type": "markdown",
      "metadata": {
        "id": "view-in-github",
        "colab_type": "text"
      },
      "source": [
        "<a href=\"https://colab.research.google.com/github/maithstartup/Notebooks-Practical-ML-Beginners/blob/master/numpy/3_Sampling_Methods.ipynb\" target=\"_parent\"><img src=\"https://colab.research.google.com/assets/colab-badge.svg\" alt=\"Open In Colab\"/></a>"
      ]
    },
    {
      "cell_type": "code",
      "metadata": {
        "id": "y88t1zY1Ox69",
        "colab_type": "code",
        "colab": {}
      },
      "source": [
        "import numpy as np"
      ],
      "execution_count": 1,
      "outputs": []
    },
    {
      "cell_type": "markdown",
      "metadata": {
        "id": "qBmPOHKdOx7A",
        "colab_type": "text"
      },
      "source": [
        "### set seed"
      ]
    },
    {
      "cell_type": "code",
      "metadata": {
        "id": "l_6vItnjOx7A",
        "colab_type": "code",
        "colab": {}
      },
      "source": [
        "np.random.seed(123)"
      ],
      "execution_count": 2,
      "outputs": []
    },
    {
      "cell_type": "code",
      "metadata": {
        "id": "KTEypkSaOx7C",
        "colab_type": "code",
        "colab": {
          "base_uri": "https://localhost:8080/",
          "height": 34
        },
        "outputId": "ca70995a-0903-46b9-fd4e-fcd1fced2fcf"
      },
      "source": [
        "np.random.randn(5) # array([-1.0856306 ,  0.99734545,  0.2829785 , -1.50629471, -0.57860025])"
      ],
      "execution_count": 3,
      "outputs": [
        {
          "output_type": "execute_result",
          "data": {
            "text/plain": [
              "array([-1.0856306 ,  0.99734545,  0.2829785 , -1.50629471, -0.57860025])"
            ]
          },
          "metadata": {
            "tags": []
          },
          "execution_count": 3
        }
      ]
    },
    {
      "cell_type": "code",
      "metadata": {
        "id": "TCSaywXhOx7F",
        "colab_type": "code",
        "colab": {
          "base_uri": "https://localhost:8080/",
          "height": 34
        },
        "outputId": "b26dac49-0a7a-4ebe-e45e-78545ac41f12"
      },
      "source": [
        "np.random.randn(5) #array([ 1.65143654, -2.42667924, -0.42891263,  1.26593626, -0.8667404 ])"
      ],
      "execution_count": 4,
      "outputs": [
        {
          "output_type": "execute_result",
          "data": {
            "text/plain": [
              "array([ 1.65143654, -2.42667924, -0.42891263,  1.26593626, -0.8667404 ])"
            ]
          },
          "metadata": {
            "tags": []
          },
          "execution_count": 4
        }
      ]
    },
    {
      "cell_type": "markdown",
      "metadata": {
        "id": "GCYCosGHOx7H",
        "colab_type": "text"
      },
      "source": [
        "### set random state which is independent from the global seed"
      ]
    },
    {
      "cell_type": "code",
      "metadata": {
        "id": "88SKuNq3Ox7I",
        "colab_type": "code",
        "colab": {
          "base_uri": "https://localhost:8080/",
          "height": 50
        },
        "outputId": "d872ab56-79b9-4188-eb70-5354236367a4"
      },
      "source": [
        "rs = np.random.RandomState(28)\n",
        "rs.rand(10)"
      ],
      "execution_count": 5,
      "outputs": [
        {
          "output_type": "execute_result",
          "data": {
            "text/plain": [
              "array([0.72901374, 0.5612396 , 0.12496709, 0.39759237, 0.78130821,\n",
              "       0.51099298, 0.18269336, 0.85351288, 0.95537189, 0.98421347])"
            ]
          },
          "metadata": {
            "tags": []
          },
          "execution_count": 5
        }
      ]
    },
    {
      "cell_type": "code",
      "metadata": {
        "id": "FE0bk7QLOx7K",
        "colab_type": "code",
        "colab": {
          "base_uri": "https://localhost:8080/",
          "height": 50
        },
        "outputId": "479d0d78-2b63-4494-900d-4d6bc919cb4a"
      },
      "source": [
        "rs.rand(10)"
      ],
      "execution_count": 6,
      "outputs": [
        {
          "output_type": "execute_result",
          "data": {
            "text/plain": [
              "array([0.19270097, 0.9707951 , 0.23480835, 0.02635385, 0.94606034,\n",
              "       0.92172485, 0.29397577, 0.1662737 , 0.39542284, 0.51066973])"
            ]
          },
          "metadata": {
            "tags": []
          },
          "execution_count": 6
        }
      ]
    },
    {
      "cell_type": "markdown",
      "metadata": {
        "id": "r23w7YPkOx7M",
        "colab_type": "text"
      },
      "source": [
        "### generate a random sample from interval [0, 1) in a given shape"
      ]
    },
    {
      "cell_type": "code",
      "metadata": {
        "id": "ZZWzFq1IOx7R",
        "colab_type": "code",
        "colab": {
          "base_uri": "https://localhost:8080/",
          "height": 34
        },
        "outputId": "b69c87cb-e071-46a9-f6d2-121132f0f045"
      },
      "source": [
        "# generate a 1-D array\n",
        "print(np.random.rand(3))           "
      ],
      "execution_count": 7,
      "outputs": [
        {
          "output_type": "stream",
          "text": [
            "[0.43857224 0.0596779  0.39804426]\n"
          ],
          "name": "stdout"
        }
      ]
    },
    {
      "cell_type": "code",
      "metadata": {
        "id": "R6Ea48YyOx7T",
        "colab_type": "code",
        "colab": {
          "base_uri": "https://localhost:8080/",
          "height": 67
        },
        "outputId": "83c42f27-8689-488f-8c0d-15c6f02eab6c"
      },
      "source": [
        "# generate a 2-D array\n",
        "print(np.random.rand(3,3))          "
      ],
      "execution_count": 8,
      "outputs": [
        {
          "output_type": "stream",
          "text": [
            "[[0.73799541 0.18249173 0.17545176]\n",
            " [0.53155137 0.53182759 0.63440096]\n",
            " [0.84943179 0.72445532 0.61102351]]\n"
          ],
          "name": "stdout"
        }
      ]
    },
    {
      "cell_type": "markdown",
      "metadata": {
        "id": "YDEeOnruOx7V",
        "colab_type": "text"
      },
      "source": [
        "### generate a sample from the standard normal distribution (mean = 0, var = 1)"
      ]
    },
    {
      "cell_type": "code",
      "metadata": {
        "id": "70HfZX6EOx7W",
        "colab_type": "code",
        "colab": {}
      },
      "source": [
        "val=np.random.randn(3,3)"
      ],
      "execution_count": 9,
      "outputs": []
    },
    {
      "cell_type": "code",
      "metadata": {
        "id": "cxvHlqmzVjE1",
        "colab_type": "code",
        "colab": {
          "base_uri": "https://localhost:8080/",
          "height": 67
        },
        "outputId": "4279ea40-82e3-4397-eda6-fbef6865512b"
      },
      "source": [
        "val"
      ],
      "execution_count": 10,
      "outputs": [
        {
          "output_type": "execute_result",
          "data": {
            "text/plain": [
              "array([[-0.93583387,  1.17582904, -1.25388067],\n",
              "       [-0.6377515 ,  0.9071052 , -1.4286807 ],\n",
              "       [-0.14006872, -0.8617549 , -0.25561937]])"
            ]
          },
          "metadata": {
            "tags": []
          },
          "execution_count": 10
        }
      ]
    },
    {
      "cell_type": "markdown",
      "metadata": {
        "id": "00rqCWxDOx7Y",
        "colab_type": "text"
      },
      "source": [
        "### generate an array of random integers in a given interval [low, high)"
      ]
    },
    {
      "cell_type": "code",
      "metadata": {
        "id": "9GUgURNzOx7Y",
        "colab_type": "code",
        "colab": {
          "base_uri": "https://localhost:8080/",
          "height": 34
        },
        "outputId": "f6ed8be2-15e7-4316-d8e8-c5aae67b71aa"
      },
      "source": [
        "# np.ranodm.randint(low, high, size, dtype)\n",
        "np.random.randint(1, 50, 5, 'i8')"
      ],
      "execution_count": 11,
      "outputs": [
        {
          "output_type": "execute_result",
          "data": {
            "text/plain": [
              "array([14, 19, 37, 16, 44])"
            ]
          },
          "metadata": {
            "tags": []
          },
          "execution_count": 11
        }
      ]
    },
    {
      "cell_type": "markdown",
      "metadata": {
        "id": "N6f6OHh_Ox7b",
        "colab_type": "text"
      },
      "source": [
        "### generate an array of random floating-point numbers in the interval [0.0, 1.0)"
      ]
    },
    {
      "cell_type": "code",
      "metadata": {
        "id": "vRoT-qgXOx7c",
        "colab_type": "code",
        "colab": {
          "base_uri": "https://localhost:8080/",
          "height": 151
        },
        "outputId": "633dd51c-b731-4a82-d031-f3e43c145b52"
      },
      "source": [
        "# the following methods are the same as np.random.rand()\n",
        "print(np.random.random_sample(10))\n",
        "\n",
        "print(np.random.random(10))\n",
        "print(np.random.ranf(10))\n",
        "print(np.random.sample(10))"
      ],
      "execution_count": 12,
      "outputs": [
        {
          "output_type": "stream",
          "text": [
            "[0.7503787  0.69340324 0.51176338 0.46426806 0.56843069 0.30254945\n",
            " 0.49730879 0.68326291 0.91669867 0.10892895]\n",
            "[0.49549179 0.23283593 0.43686066 0.75154299 0.48089213 0.79772841\n",
            " 0.28270293 0.43341824 0.00975735 0.34079598]\n",
            "[0.68927201 0.86936929 0.26780382 0.45674792 0.26828131 0.8370528\n",
            " 0.27051466 0.53006201 0.17537266 0.31496645]\n",
            "[0.8911091  0.18033628 0.4943162  0.2122981  0.52087687 0.16009994\n",
            " 0.9190568  0.99428992 0.47704756 0.30988351]\n"
          ],
          "name": "stdout"
        }
      ]
    },
    {
      "cell_type": "markdown",
      "metadata": {
        "id": "YdpuGtGCOx7e",
        "colab_type": "text"
      },
      "source": [
        "### generate a random sample from a given 1-D array"
      ]
    },
    {
      "cell_type": "code",
      "metadata": {
        "id": "dJcC7V4cOx7e",
        "colab_type": "code",
        "colab": {
          "base_uri": "https://localhost:8080/",
          "height": 34
        },
        "outputId": "a92d8fc8-6088-4acd-e964-14aab824faa1"
      },
      "source": [
        "# np.random.choice(iterable_or_int, size, replace=True, p=weights)\n",
        "print(np.random.choice(range(3), 10, replace=True, p=[0.2, 0.5, 0.3]))"
      ],
      "execution_count": 13,
      "outputs": [
        {
          "output_type": "stream",
          "text": [
            "[1 1 2 0 1 2 1 1 2 2]\n"
          ],
          "name": "stdout"
        }
      ]
    },
    {
      "cell_type": "code",
      "metadata": {
        "id": "4MrGltxrOx7g",
        "colab_type": "code",
        "colab": {
          "base_uri": "https://localhost:8080/",
          "height": 34
        },
        "outputId": "6c026bfd-70b0-4313-8c60-fba721e026a7"
      },
      "source": [
        "print(np.random.choice(3, 10))"
      ],
      "execution_count": 14,
      "outputs": [
        {
          "output_type": "stream",
          "text": [
            "[1 0 2 0 0 2 0 2 1 0]\n"
          ],
          "name": "stdout"
        }
      ]
    },
    {
      "cell_type": "code",
      "metadata": {
        "id": "qDXVMjjCOx7i",
        "colab_type": "code",
        "colab": {
          "base_uri": "https://localhost:8080/",
          "height": 34
        },
        "outputId": "f8425481-b0fa-4958-9dc4-59fca0478db5"
      },
      "source": [
        "print(np.random.choice([1,2,3], 10))"
      ],
      "execution_count": 15,
      "outputs": [
        {
          "output_type": "stream",
          "text": [
            "[1 1 1 1 1 2 1 1 1 3]\n"
          ],
          "name": "stdout"
        }
      ]
    },
    {
      "cell_type": "markdown",
      "metadata": {
        "id": "2piEfJ2AOx7j",
        "colab_type": "text"
      },
      "source": [
        "### shuffle an array in place"
      ]
    },
    {
      "cell_type": "code",
      "metadata": {
        "id": "pljnBXdmOx7k",
        "colab_type": "code",
        "colab": {
          "base_uri": "https://localhost:8080/",
          "height": 34
        },
        "outputId": "de42f5f9-aceb-4cd6-fb9a-1fbe305a88ca"
      },
      "source": [
        "arr = np.array(range(10))\n",
        "print(arr)"
      ],
      "execution_count": 16,
      "outputs": [
        {
          "output_type": "stream",
          "text": [
            "[0 1 2 3 4 5 6 7 8 9]\n"
          ],
          "name": "stdout"
        }
      ]
    },
    {
      "cell_type": "code",
      "metadata": {
        "id": "9BapQom3Ox7m",
        "colab_type": "code",
        "colab": {
          "base_uri": "https://localhost:8080/",
          "height": 34
        },
        "outputId": "a09878a6-115f-491c-ee6e-155bddbae9f5"
      },
      "source": [
        "np.random.shuffle(arr)\n",
        "print(arr)"
      ],
      "execution_count": 17,
      "outputs": [
        {
          "output_type": "stream",
          "text": [
            "[4 7 3 5 2 0 9 1 6 8]\n"
          ],
          "name": "stdout"
        }
      ]
    },
    {
      "cell_type": "markdown",
      "metadata": {
        "id": "PqJbzQphOx7n",
        "colab_type": "text"
      },
      "source": [
        "### generate a permutation of an array"
      ]
    },
    {
      "cell_type": "code",
      "metadata": {
        "id": "vSOq7JhHOx7o",
        "colab_type": "code",
        "colab": {
          "base_uri": "https://localhost:8080/",
          "height": 67
        },
        "outputId": "c85ad891-95de-4261-c9da-ee7167024b86"
      },
      "source": [
        "# similar to np.random.shuffle(), but it returns a copy rather than making changes in place\n",
        "arr = np.array(range(10))\n",
        "print('The initial array: ', arr)\n",
        "print('A permutation of the array: ', np.random.permutation(arr))\n",
        "print(arr)"
      ],
      "execution_count": 18,
      "outputs": [
        {
          "output_type": "stream",
          "text": [
            "The initial array:  [0 1 2 3 4 5 6 7 8 9]\n",
            "A permutation of the array:  [2 0 6 8 9 3 4 5 7 1]\n",
            "[0 1 2 3 4 5 6 7 8 9]\n"
          ],
          "name": "stdout"
        }
      ]
    },
    {
      "cell_type": "code",
      "metadata": {
        "id": "wYUQN3lAOx7q",
        "colab_type": "code",
        "colab": {
          "base_uri": "https://localhost:8080/",
          "height": 67
        },
        "outputId": "65f483e9-1262-433c-b83e-a13668c9c779"
      },
      "source": [
        "np.random.seed(26)\n",
        "  \n",
        "# print a random number between 1 and 1000. \n",
        "print(np.random.randint(1, 1000)) \n",
        "  \n",
        "# if you want to get the same random number again then, \n",
        "np.random.seed(26)  \n",
        "print(np.random.randint(1, 1000)) \n",
        "  \n",
        "# If seed function is not used \n",
        "  \n",
        "# Gives totally unpredictable responses. \n",
        "print(np.random.randint(1, 1000)) "
      ],
      "execution_count": 19,
      "outputs": [
        {
          "output_type": "stream",
          "text": [
            "822\n",
            "822\n",
            "319\n"
          ],
          "name": "stdout"
        }
      ]
    },
    {
      "cell_type": "code",
      "metadata": {
        "id": "7yyjy-G9Ox7r",
        "colab_type": "code",
        "colab": {}
      },
      "source": [
        ""
      ],
      "execution_count": 19,
      "outputs": []
    }
  ]
}